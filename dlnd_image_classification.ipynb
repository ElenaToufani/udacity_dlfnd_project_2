{
 "cells": [
  {
   "cell_type": "markdown",
   "metadata": {
    "collapsed": true,
    "deletable": true,
    "editable": true
   },
   "source": [
    "# Image Classification\n",
    "In this project, you'll classify images from the [CIFAR-10 dataset](https://www.cs.toronto.edu/~kriz/cifar.html).  The dataset consists of airplanes, dogs, cats, and other objects. You'll preprocess the images, then train a convolutional neural network on all the samples. The images need to be normalized and the labels need to be one-hot encoded.  You'll get to apply what you learned and build a convolutional, max pooling, dropout, and fully connected layers.  At the end, you'll get to see your neural network's predictions on the sample images.\n",
    "## Get the Data\n",
    "Run the following cell to download the [CIFAR-10 dataset for python](https://www.cs.toronto.edu/~kriz/cifar-10-python.tar.gz)."
   ]
  },
  {
   "cell_type": "code",
   "execution_count": 1,
   "metadata": {
    "ExecuteTime": {
     "end_time": "2017-03-30T00:32:45.840187+11:00",
     "start_time": "2017-03-30T00:32:39.448983"
    },
    "collapsed": false,
    "deletable": true,
    "editable": true
   },
   "outputs": [
    {
     "name": "stderr",
     "output_type": "stream",
     "text": [
      "CIFAR-10 Dataset: 171MB [00:11, 15.0MB/s]                              \n"
     ]
    },
    {
     "name": "stdout",
     "output_type": "stream",
     "text": [
      "All files found!\n"
     ]
    }
   ],
   "source": [
    "\"\"\"\n",
    "DON'T MODIFY ANYTHING IN THIS CELL THAT IS BELOW THIS LINE\n",
    "\"\"\"\n",
    "from urllib.request import urlretrieve\n",
    "from os.path import isfile, isdir\n",
    "from tqdm import tqdm\n",
    "import problem_unittests as tests\n",
    "import tarfile\n",
    "\n",
    "cifar10_dataset_folder_path = 'cifar-10-batches-py'\n",
    "\n",
    "class DLProgress(tqdm):\n",
    "    last_block = 0\n",
    "\n",
    "    def hook(self, block_num=1, block_size=1, total_size=None):\n",
    "        self.total = total_size\n",
    "        self.update((block_num - self.last_block) * block_size)\n",
    "        self.last_block = block_num\n",
    "\n",
    "if not isfile('cifar-10-python.tar.gz'):\n",
    "    with DLProgress(unit='B', unit_scale=True, miniters=1, desc='CIFAR-10 Dataset') as pbar:\n",
    "        urlretrieve(\n",
    "            'https://www.cs.toronto.edu/~kriz/cifar-10-python.tar.gz',\n",
    "            'cifar-10-python.tar.gz',\n",
    "            pbar.hook)\n",
    "\n",
    "if not isdir(cifar10_dataset_folder_path):\n",
    "    with tarfile.open('cifar-10-python.tar.gz') as tar:\n",
    "        tar.extractall()\n",
    "        tar.close()\n",
    "\n",
    "\n",
    "tests.test_folder_path(cifar10_dataset_folder_path)"
   ]
  },
  {
   "cell_type": "markdown",
   "metadata": {
    "deletable": true,
    "editable": true
   },
   "source": [
    "## Explore the Data\n",
    "The dataset is broken into batches to prevent your machine from running out of memory.  The CIFAR-10 dataset consists of 5 batches, named `data_batch_1`, `data_batch_2`, etc.. Each batch contains the labels and images that are one of the following:\n",
    "* airplane\n",
    "* automobile\n",
    "* bird\n",
    "* cat\n",
    "* deer\n",
    "* dog\n",
    "* frog\n",
    "* horse\n",
    "* ship\n",
    "* truck\n",
    "\n",
    "Understanding a dataset is part of making predictions on the data.  Play around with the code cell below by changing the `batch_id` and `sample_id`. The `batch_id` is the id for a batch (1-5). The `sample_id` is the id for a image and label pair in the batch.\n",
    "\n",
    "Ask yourself \"What are all possible labels?\", \"What is the range of values for the image data?\", \"Are the labels in order or random?\".  Answers to questions like these will help you preprocess the data and end up with better predictions."
   ]
  },
  {
   "cell_type": "code",
   "execution_count": 2,
   "metadata": {
    "ExecuteTime": {
     "end_time": "2017-03-30T00:33:03.225957+11:00",
     "start_time": "2017-03-30T00:32:58.356469"
    },
    "collapsed": false,
    "deletable": true,
    "editable": true
   },
   "outputs": [
    {
     "name": "stdout",
     "output_type": "stream",
     "text": [
      "\n",
      "Stats of batch 4:\n",
      "Samples: 10000\n",
      "Label Counts: {0: 1003, 1: 963, 2: 1041, 3: 976, 4: 1004, 5: 1021, 6: 1004, 7: 981, 8: 1024, 9: 983}\n",
      "First 20 Labels: [0, 6, 0, 2, 7, 2, 1, 2, 4, 1, 5, 6, 6, 3, 1, 3, 5, 5, 8, 1]\n",
      "\n",
      "Example of Image 5:\n",
      "Image - Min Value: 13 Max Value: 169\n",
      "Image - Shape: (32, 32, 3)\n",
      "Label - Label Id: 2 Name: bird\n"
     ]
    },
    {
     "data": {
      "image/png": "[encoded data removed]",
      "text/plain": [
       "<matplotlib.figure.Figure at 0x7fd86c4005c0>"
      ]
     },
     "metadata": {},
     "output_type": "display_data"
    }
   ],
   "source": [
    "%matplotlib inline\n",
    "\n",
    "import helper\n",
    "import numpy as np\n",
    "\n",
    "# Explore the dataset\n",
    "batch_id = 4\n",
    "sample_id = 5\n",
    "helper.display_stats(cifar10_dataset_folder_path, batch_id, sample_id)"
   ]
  },
  {
   "cell_type": "markdown",
   "metadata": {
    "deletable": true,
    "editable": true
   },
   "source": [
    "## Implement Preprocess Functions\n",
    "### Normalize\n",
    "In the cell below, implement the `normalize` function to take in image data, `x`, and return it as a normalized Numpy array. The values should be in the range of 0 to 1, inclusive.  The return object should be the same shape as `x`."
   ]
  },
  {
   "cell_type": "code",
   "execution_count": 3,
   "metadata": {
    "ExecuteTime": {
     "end_time": "2017-03-30T00:33:06.870006+11:00",
     "start_time": "2017-03-30T00:33:06.737380"
    },
    "collapsed": false,
    "deletable": true,
    "editable": true
   },
   "outputs": [
    {
     "name": "stdout",
     "output_type": "stream",
     "text": [
      "Tests Passed\n"
     ]
    }
   ],
   "source": [
    "def normalize(x):\n",
    "    \"\"\"\n",
    "    Normalize a list of sample image data in the range of 0 to 1\n",
    "    : x: List of image data.  The image shape is (32, 32, 3)\n",
    "    : return: Numpy array of normalize data\n",
    "    \"\"\"\n",
    "    # TODO: Implement Function\n",
    "    return (x - np.min(x)) / (np.max(x) - np.min(x))\n",
    "\n",
    "\"\"\"\n",
    "DON'T MODIFY ANYTHING IN THIS CELL THAT IS BELOW THIS LINE\n",
    "\"\"\"\n",
    "tests.test_normalize(normalize)"
   ]
  },
  {
   "cell_type": "markdown",
   "metadata": {
    "deletable": true,
    "editable": true
   },
   "source": [
    "### One-hot encode\n",
    "Just like the previous code cell, you'll be implementing a function for preprocessing.  This time, you'll implement the `one_hot_encode` function. The input, `x`, are a list of labels.  Implement the function to return the list of labels as One-Hot encoded Numpy array.  The possible values for labels are 0 to 9. The one-hot encoding function should return the same encoding for each value between each call to `one_hot_encode`.  Make sure to save the map of encodings outside the function.\n",
    "\n",
    "Hint: Don't reinvent the wheel."
   ]
  },
  {
   "cell_type": "code",
   "execution_count": 4,
   "metadata": {
    "ExecuteTime": {
     "end_time": "2017-03-30T00:33:09.476004+11:00",
     "start_time": "2017-03-30T00:33:09.462609"
    },
    "collapsed": false,
    "deletable": true,
    "editable": true
   },
   "outputs": [
    {
     "name": "stdout",
     "output_type": "stream",
     "text": [
      "Tests Passed\n"
     ]
    }
   ],
   "source": [
    "def one_hot_encode(x):\n",
    "    \"\"\"\n",
    "    One hot encode a list of sample labels. Return a one-hot encoded vector for each label.\n",
    "    : x: List of sample Labels\n",
    "    : return: Numpy array of one-hot encoded labels\n",
    "    \"\"\"\n",
    "    # TODO: Implement Function\n",
    "    return np.eye(10)[x]\n",
    "\n",
    "\n",
    "\"\"\"\n",
    "DON'T MODIFY ANYTHING IN THIS CELL THAT IS BELOW THIS LINE\n",
    "\"\"\"\n",
    "tests.test_one_hot_encode(one_hot_encode)"
   ]
  },
  {
   "cell_type": "markdown",
   "metadata": {
    "deletable": true,
    "editable": true
   },
   "source": [
    "### Randomize Data\n",
    "As you saw from exploring the data above, the order of the samples are randomized.  It doesn't hurt to randomize it again, but you don't need to for this dataset."
   ]
  },
  {
   "cell_type": "markdown",
   "metadata": {
    "deletable": true,
    "editable": true
   },
   "source": [
    "## Preprocess all the data and save it\n",
    "Running the code cell below will preprocess all the CIFAR-10 data and save it to file. The code below also uses 10% of the training data for validation."
   ]
  },
  {
   "cell_type": "code",
   "execution_count": 5,
   "metadata": {
    "ExecuteTime": {
     "end_time": "2017-03-30T00:33:30.931576+11:00",
     "start_time": "2017-03-30T00:33:12.804601"
    },
    "collapsed": false,
    "deletable": true,
    "editable": true
   },
   "outputs": [],
   "source": [
    "\"\"\"\n",
    "DON'T MODIFY ANYTHING IN THIS CELL\n",
    "\"\"\"\n",
    "# Preprocess Training, Validation, and Testing Data\n",
    "helper.preprocess_and_save_data(cifar10_dataset_folder_path, normalize, one_hot_encode)"
   ]
  },
  {
   "cell_type": "markdown",
   "metadata": {
    "deletable": true,
    "editable": true
   },
   "source": [
    "# Check Point\n",
    "This is your first checkpoint.  If you ever decide to come back to this notebook or have to restart the notebook, you can start from here.  The preprocessed data has been saved to disk."
   ]
  },
  {
   "cell_type": "code",
   "execution_count": 6,
   "metadata": {
    "ExecuteTime": {
     "end_time": "2017-03-30T00:33:33.854410+11:00",
     "start_time": "2017-03-30T00:33:33.753709"
    },
    "collapsed": true,
    "deletable": true,
    "editable": true
   },
   "outputs": [],
   "source": [
    "\"\"\"\n",
    "DON'T MODIFY ANYTHING IN THIS CELL\n",
    "\"\"\"\n",
    "import pickle\n",
    "import problem_unittests as tests\n",
    "import helper\n",
    "\n",
    "# Load the Preprocessed Validation data\n",
    "valid_features, valid_labels = pickle.load(open('preprocess_validation.p', mode='rb'))"
   ]
  },
  {
   "cell_type": "markdown",
   "metadata": {
    "deletable": true,
    "editable": true
   },
   "source": [
    "## Build the network\n",
    "For the neural network, you'll build each layer into a function.  Most of the code you've seen has been outside of functions. To test your code more thoroughly, we require that you put each layer in a function.  This allows us to give you better feedback and test for simple mistakes using our unittests before you submit your project.\n",
    "\n",
    ">**Note:** If you're finding it hard to dedicate enough time for this course each week, we've provided a small shortcut to this part of the project. In the next couple of problems, you'll have the option to use classes from the [TensorFlow Layers](https://www.tensorflow.org/api_docs/python/tf/layers) or [TensorFlow Layers (contrib)](https://www.tensorflow.org/api_guides/python/contrib.layers) packages to build each layer, except the layers you build in the \"Convolutional and Max Pooling Layer\" section.  TF Layers is similar to Keras's and TFLearn's abstraction to layers, so it's easy to pickup.\n",
    "\n",
    ">However, if you would like to get the most out of this course, try to solve all the problems _without_ using anything from the TF Layers packages. You **can** still use classes from other packages that happen to have the same name as ones you find in TF Layers! For example, instead of using the TF Layers version of the `conv2d` class, [tf.layers.conv2d](https://www.tensorflow.org/api_docs/python/tf/layers/conv2d), you would want to use the TF Neural Network version of `conv2d`, [tf.nn.conv2d](https://www.tensorflow.org/api_docs/python/tf/nn/conv2d). \n",
    "\n",
    "Let's begin!\n",
    "\n",
    "### Input\n",
    "The neural network needs to read the image data, one-hot encoded labels, and dropout keep probability. Implement the following functions\n",
    "* Implement `neural_net_image_input`\n",
    " * Return a [TF Placeholder](https://www.tensorflow.org/api_docs/python/tf/placeholder)\n",
    " * Set the shape using `image_shape` with batch size set to `None`.\n",
    " * Name the TensorFlow placeholder \"x\" using the TensorFlow `name` parameter in the [TF Placeholder](https://www.tensorflow.org/api_docs/python/tf/placeholder).\n",
    "* Implement `neural_net_label_input`\n",
    " * Return a [TF Placeholder](https://www.tensorflow.org/api_docs/python/tf/placeholder)\n",
    " * Set the shape using `n_classes` with batch size set to `None`.\n",
    " * Name the TensorFlow placeholder \"y\" using the TensorFlow `name` parameter in the [TF Placeholder](https://www.tensorflow.org/api_docs/python/tf/placeholder).\n",
    "* Implement `neural_net_keep_prob_input`\n",
    " * Return a [TF Placeholder](https://www.tensorflow.org/api_docs/python/tf/placeholder) for dropout keep probability.\n",
    " * Name the TensorFlow placeholder \"keep_prob\" using the TensorFlow `name` parameter in the [TF Placeholder](https://www.tensorflow.org/api_docs/python/tf/placeholder).\n",
    "\n",
    "These names will be used at the end of the project to load your saved model.\n",
    "\n",
    "Note: `None` for shapes in TensorFlow allow for a dynamic size."
   ]
  },
  {
   "cell_type": "code",
   "execution_count": 7,
   "metadata": {
    "ExecuteTime": {
     "end_time": "2017-03-30T00:34:30.315524+11:00",
     "start_time": "2017-03-30T00:34:30.161567"
    },
    "collapsed": false,
    "deletable": true,
    "editable": true
   },
   "outputs": [
    {
     "name": "stdout",
     "output_type": "stream",
     "text": [
      "Image Input Tests Passed.\n",
      "Label Input Tests Passed.\n",
      "Keep Prob Tests Passed.\n"
     ]
    }
   ],
   "source": [
    "import tensorflow as tf\n",
    "\n",
    "def neural_net_image_input(image_shape):\n",
    "    \"\"\"\n",
    "    Return a Tensor for a batch of image input\n",
    "    : image_shape: Shape of the images\n",
    "    : return: Tensor for image input, 4D tensor -> [n_obs x 32 x 32 x 3]\n",
    "    \n",
    "    Dimension of tensor returned is based on the images passed in\n",
    "        * shape[None... ->  batch size. None allows for the row count to be\n",
    "                            dynamic, due to batches potentially having a\n",
    "                            different number of observations\n",
    "        * image_shape[n] -> provides the dimensions for the image\n",
    "                         -> [0] = y (32)\n",
    "                         -> [1] = x (32)\n",
    "                         -> [2] = depth (colour channel count = 3 = RGB)\n",
    "                         \n",
    "    \"\"\"\n",
    "    # TODO: Implement Function\n",
    "    return tf.placeholder(tf.float32,\n",
    "                          shape=[None,\n",
    "                                 image_shape[0],\n",
    "                                 image_shape[1],\n",
    "                                 image_shape[2]],\n",
    "                          name=\"x\")\n",
    "\n",
    "\n",
    "def neural_net_label_input(n_classes):\n",
    "    \"\"\"\n",
    "    Return a Tensor for a batch of label input\n",
    "    : n_classes: Number of classes\n",
    "    : return: Tensor for label input.\n",
    "    \"\"\"\n",
    "    # TODO: Implement Function\n",
    "    return tf.placeholder(tf.float32, shape=[None, n_classes], name=\"y\")\n",
    "\n",
    "\n",
    "def neural_net_keep_prob_input():\n",
    "    \"\"\"\n",
    "    Return a Tensor for keep probability\n",
    "    : return: Tensor for keep probability.\n",
    "    \"\"\"\n",
    "    # TODO: Implement Function\n",
    "    return tf.placeholder(tf.float32, name=\"keep_prob\")\n",
    "\n",
    "\n",
    "\"\"\"\n",
    "DON'T MODIFY ANYTHING IN THIS CELL THAT IS BELOW THIS LINE\n",
    "\"\"\"\n",
    "tf.reset_default_graph()\n",
    "tests.test_nn_image_inputs(neural_net_image_input)\n",
    "tests.test_nn_label_inputs(neural_net_label_input)\n",
    "tests.test_nn_keep_prob_inputs(neural_net_keep_prob_input)"
   ]
  },
  {
   "cell_type": "markdown",
   "metadata": {
    "deletable": true,
    "editable": true
   },
   "source": [
    "### Convolution and Max Pooling Layer\n",
    "Convolution layers have a lot of success with images. For this code cell, you should implement the function `conv2d_maxpool` to apply convolution then max pooling:\n",
    "* Create the weight and bias using `conv_ksize`, `conv_num_outputs` and the shape of `x_tensor`.\n",
    "* Apply a convolution to `x_tensor` using weight and `conv_strides`.\n",
    " * We recommend you use same padding, but you're welcome to use any padding.\n",
    "* Add bias\n",
    "* Add a nonlinear activation to the convolution.\n",
    "* Apply Max Pooling using `pool_ksize` and `pool_strides`.\n",
    " * We recommend you use same padding, but you're welcome to use any padding.\n",
    "\n",
    "**Note:** You **can't** use [TensorFlow Layers](https://www.tensorflow.org/api_docs/python/tf/layers) or [TensorFlow Layers (contrib)](https://www.tensorflow.org/api_guides/python/contrib.layers) for **this** layer, but you can still use TensorFlow's [Neural Network](https://www.tensorflow.org/api_docs/python/tf/nn) package. You may still use the shortcut option for all the **other** layers."
   ]
  },
  {
   "cell_type": "code",
   "execution_count": 8,
   "metadata": {
    "ExecuteTime": {
     "end_time": "2017-03-30T01:31:23.165136+11:00",
     "start_time": "2017-03-30T01:31:22.714461"
    },
    "collapsed": false,
    "deletable": true,
    "editable": true
   },
   "outputs": [
    {
     "name": "stdout",
     "output_type": "stream",
     "text": [
      "Tests Passed\n"
     ]
    }
   ],
   "source": [
    "# https://www.youtube.com/watch?v=eBbEDRsCmv4\n",
    "# Video on setting scope names for tensorboard\n",
    "def conv2d_maxpool(x_tensor, conv_num_outputs, conv_ksize, conv_strides, pool_ksize, pool_strides, scope_name=\"conv\"):\n",
    "    \"\"\"\n",
    "    Apply convolution then max pooling to x_tensor\n",
    "    :param x_tensor: TensorFlow Tensor\n",
    "    :param conv_num_outputs: Number of outputs for the convolutional layer\n",
    "    :param conv_ksize: kernal size 2-D Tuple for the convolutional layer\n",
    "    :param conv_strides: Stride 2-D Tuple for convolution\n",
    "    :param pool_ksize: kernal size 2-D Tuple for pool\n",
    "    :param pool_strides: Stride 2-D Tuple for pool\n",
    "    : return: A tensor that represents convolution and max pooling of x_tensor\n",
    "    \"\"\"\n",
    "    with tf.name_scope(scope_name):\n",
    "        # set locals\n",
    "        # ------------------------------------------------------------------------\n",
    "        # coeffecient control var(s)\n",
    "        layer_depth = x_tensor.get_shape()[3].value\n",
    "        weight_shape = [*conv_ksize, layer_depth, conv_num_outputs]\n",
    "        bias_shape = conv_num_outputs\n",
    "\n",
    "        # convolution control var(s)\n",
    "        padding = \"SAME\"\n",
    "        conv_strides = [1, *conv_strides, 1]\n",
    "\n",
    "        # max pool control vars\n",
    "        ksize = [1, *pool_ksize, 1]\n",
    "        pool_strides = [1, *pool_strides, 1]\n",
    "\n",
    "\n",
    "        # set coeffecients\n",
    "        # ------------------------------------------------------------------------\n",
    "        # https://www.tensorflow.org/api_docs/python/tf/truncated_normal\n",
    "        # https://www.tensorflow.org/programmers_guide/variable_scope\n",
    "        weights = tf.Variable(tf.truncated_normal(weight_shape, stddev=0.1),\n",
    "                              tf.float32,\n",
    "                              name=\"weights\")\n",
    "        bias = tf.Variable(tf.zeros(bias_shape, tf.float32, name=\"bias\"))\n",
    "\n",
    "\n",
    "        # set nodes\n",
    "        # ------------------------------------------------------------------------\n",
    "        # https://www.tensorflow.org/api_docs/python/tf/nn/conv2d\n",
    "        # https://www.tensorflow.org/api_docs/python/tf/nn/relu\n",
    "        # https://www.tensorflow.org/api_docs/python/tf/nn/max_pool\n",
    "        convolutions = tf.nn.conv2d(x_tensor, weights, conv_strides, padding, name=\"conv\")\n",
    "        activations = tf.nn.relu(convolutions + bias, name=\"relu\")\n",
    "        pool = tf.nn.max_pool(activations, ksize, pool_strides, padding, name=\"pool\")\n",
    "\n",
    "        return pool \n",
    "\n",
    "\n",
    "\"\"\"\n",
    "DON'T MODIFY ANYTHING IN THIS CELL THAT IS BELOW THIS LINE\n",
    "\"\"\"\n",
    "tests.test_con_pool(conv2d_maxpool)"
   ]
  },
  {
   "cell_type": "markdown",
   "metadata": {
    "deletable": true,
    "editable": true
   },
   "source": [
    "### Flatten Layer\n",
    "Implement the `flatten` function to change the dimension of `x_tensor` from a 4-D tensor to a 2-D tensor.  The output should be the shape (*Batch Size*, *Flattened Image Size*). Shortcut option: you can use classes from the [TensorFlow Layers](https://www.tensorflow.org/api_docs/python/tf/layers) or [TensorFlow Layers (contrib)](https://www.tensorflow.org/api_guides/python/contrib.layers) packages for this layer. For more of a challenge, only use other TensorFlow packages."
   ]
  },
  {
   "cell_type": "code",
   "execution_count": 9,
   "metadata": {
    "ExecuteTime": {
     "end_time": "2017-03-30T00:35:48.866223+11:00",
     "start_time": "2017-03-30T00:35:43.653764"
    },
    "collapsed": false,
    "deletable": true,
    "editable": true
   },
   "outputs": [],
   "source": [
    "import tensorflow.contrib.layers as tfcl "
   ]
  },
  {
   "cell_type": "code",
   "execution_count": 10,
   "metadata": {
    "ExecuteTime": {
     "end_time": "2017-03-30T01:31:26.414881+11:00",
     "start_time": "2017-03-30T01:31:26.399930"
    },
    "collapsed": false,
    "deletable": true,
    "editable": true
   },
   "outputs": [
    {
     "name": "stdout",
     "output_type": "stream",
     "text": [
      "Tests Passed\n"
     ]
    }
   ],
   "source": [
    "def flatten(x_tensor):\n",
    "    \"\"\"\n",
    "    Flatten x_tensor to (Batch Size, Flattened Image Size)\n",
    "    : x_tensor: A tensor of size (Batch Size, ...), where ... are the image dimensions.\n",
    "    : return: A tensor of size (Batch Size, Flattened Image Size).\n",
    "    \"\"\"\n",
    "    # TODO: Implement Function\n",
    "    # https://www.tensorflow.org/api_docs/python/tf/contrib/layers/flatten\n",
    "    return tfcl.flatten(x_tensor)\n",
    "\n",
    "\n",
    "\"\"\"\n",
    "DON'T MODIFY ANYTHING IN THIS CELL THAT IS BELOW THIS LINE\n",
    "\"\"\"\n",
    "tests.test_flatten(flatten)"
   ]
  },
  {
   "cell_type": "markdown",
   "metadata": {
    "deletable": true,
    "editable": true
   },
   "source": [
    "### Fully-Connected Layer\n",
    "Implement the `fully_conn` function to apply a fully connected layer to `x_tensor` with the shape (*Batch Size*, *num_outputs*). Shortcut option: you can use classes from the [TensorFlow Layers](https://www.tensorflow.org/api_docs/python/tf/layers) or [TensorFlow Layers (contrib)](https://www.tensorflow.org/api_guides/python/contrib.layers) packages for this layer. For more of a challenge, only use other TensorFlow packages."
   ]
  },
  {
   "cell_type": "code",
   "execution_count": 11,
   "metadata": {
    "ExecuteTime": {
     "end_time": "2017-03-30T01:31:28.773561+11:00",
     "start_time": "2017-03-30T01:31:28.685757"
    },
    "collapsed": false,
    "deletable": true,
    "editable": true
   },
   "outputs": [
    {
     "name": "stdout",
     "output_type": "stream",
     "text": [
      "Tests Passed\n"
     ]
    }
   ],
   "source": [
    "def fully_conn(x_tensor, num_outputs, scope_name=\"fc\"):\n",
    "    \"\"\"\n",
    "    Apply a fully connected layer to x_tensor using weight and bias\n",
    "    : x_tensor: A 2-D tensor where the first dimension is batch size.\n",
    "    : num_outputs: The number of output that the new tensor should be.\n",
    "    : return: A 2-D tensor where the second dimension is num_outputs.\n",
    "    \"\"\"\n",
    "    # https://www.tensorflow.org/api_docs/python/tf/contrib/layers/fully_connected\n",
    "    with tf.name_scope(scope_name):\n",
    "        return tfcl.fully_connected(x_tensor, num_outputs, activation_fn=tf.nn.relu)\n",
    "\n",
    "\n",
    "\"\"\"\n",
    "DON'T MODIFY ANYTHING IN THIS CELL THAT IS BELOW THIS LINE\n",
    "\"\"\"\n",
    "tests.test_fully_conn(fully_conn)"
   ]
  },
  {
   "cell_type": "markdown",
   "metadata": {
    "deletable": true,
    "editable": true
   },
   "source": [
    "### Output Layer\n",
    "Implement the `output` function to apply a fully connected layer to `x_tensor` with the shape (*Batch Size*, *num_outputs*). Shortcut option: you can use classes from the [TensorFlow Layers](https://www.tensorflow.org/api_docs/python/tf/layers) or [TensorFlow Layers (contrib)](https://www.tensorflow.org/api_guides/python/contrib.layers) packages for this layer. For more of a challenge, only use other TensorFlow packages.\n",
    "\n",
    "**Note:** Activation, softmax, or cross entropy should **not** be applied to this."
   ]
  },
  {
   "cell_type": "code",
   "execution_count": 12,
   "metadata": {
    "ExecuteTime": {
     "end_time": "2017-03-30T01:31:30.989717+11:00",
     "start_time": "2017-03-30T01:31:30.933040"
    },
    "collapsed": false,
    "deletable": true,
    "editable": true
   },
   "outputs": [
    {
     "name": "stdout",
     "output_type": "stream",
     "text": [
      "Tests Passed\n"
     ]
    }
   ],
   "source": [
    "def output(x_tensor, num_outputs, scope_name=\"output\"):\n",
    "    \"\"\"\n",
    "    Apply a output layer to x_tensor using weight and bias\n",
    "    : x_tensor: A 2-D tensor where the first dimension is batch size.\n",
    "    : num_outputs: The number of output that the new tensor should be.\n",
    "    : return: A 2-D tensor where the second dimension is num_outputs.\n",
    "    \"\"\"\n",
    "    # TODO: Implement Function\n",
    "    # https://www.tensorflow.org/api_docs/python/tf/contrib/layers/fully_connected\n",
    "    # activation_fn: activation function, set to None to skip it and maintain a linear activation.\n",
    "    with tf.name_scope(scope_name):\n",
    "        return tfcl.fully_connected(x_tensor, num_outputs, activation_fn=None)\n",
    "\n",
    "\n",
    "\"\"\"\n",
    "DON'T MODIFY ANYTHING IN THIS CELL THAT IS BELOW THIS LINE\n",
    "\"\"\"\n",
    "tests.test_output(output)"
   ]
  },
  {
   "cell_type": "markdown",
   "metadata": {
    "deletable": true,
    "editable": true
   },
   "source": [
    "### Create Convolutional Model\n",
    "Implement the function `conv_net` to create a convolutional neural network model. The function takes in a batch of images, `x`, and outputs logits.  Use the layers you created above to create this model:\n",
    "\n",
    "* Apply 1, 2, or 3 Convolution and Max Pool layers\n",
    "* Apply a Flatten Layer\n",
    "* Apply 1, 2, or 3 Fully Connected Layers\n",
    "* Apply an Output Layer\n",
    "* Return the output\n",
    "* Apply [TensorFlow's Dropout](https://www.tensorflow.org/api_docs/python/tf/nn/dropout) to one or more layers in the model using `keep_prob`. "
   ]
  },
  {
   "cell_type": "code",
   "execution_count": 13,
   "metadata": {
    "ExecuteTime": {
     "end_time": "2017-03-30T01:31:33.598382+11:00",
     "start_time": "2017-03-30T01:31:32.890521"
    },
    "collapsed": false,
    "deletable": true,
    "editable": true
   },
   "outputs": [
    {
     "name": "stdout",
     "output_type": "stream",
     "text": [
      "Neural Network Built!\n"
     ]
    }
   ],
   "source": [
    "# https://cs231n.github.io/convolutional-networks/\n",
    "# https://cs231n.github.io/convolutional-networks/#layers\n",
    "\n",
    "def conv_net(x, keep_prob):\n",
    "    \"\"\"\n",
    "    Create a convolutional neural network model\n",
    "    : x: Placeholder tensor that holds image data.\n",
    "    : keep_prob: Placeholder tensor that hold dropout keep probability.\n",
    "    : return: Tensor that represents logits\n",
    "    \n",
    "    Internals:\n",
    "        - conv1 = [32, 32, 3]\n",
    "        - conv2 = []\n",
    "    \n",
    "    \"\"\"\n",
    "    # TODO: Apply 1, 2, or 3 Convolution and Max Pool layers\n",
    "    #    Play around with different number of outputs, kernel size and stride\n",
    "    # Function Definition from Above:\n",
    "    #    conv2d_maxpool(x_tensor, conv_num_outputs, conv_ksize, conv_strides, pool_ksize, pool_strides)\n",
    "    conv_1 = conv2d_maxpool(x_tensor=x, \n",
    "                            conv_num_outputs=32,\n",
    "                            conv_ksize=(3, 3), \n",
    "                            conv_strides=(1, 1), \n",
    "                            pool_ksize=(2, 2), \n",
    "                            pool_strides=(2, 2),\n",
    "                            scope_name=\"conv_1\")\n",
    "    \n",
    "    conv_2 = conv2d_maxpool(x_tensor=conv_1,\n",
    "                            conv_num_outputs=196,\n",
    "                            conv_ksize=(3, 3), \n",
    "                            conv_strides=(1, 1), \n",
    "                            pool_ksize=(2, 2), \n",
    "                            pool_strides=(2, 2),\n",
    "                            scope_name=\"conv_2\")\n",
    "\n",
    "    # TODO: Apply a Flatten Layer\n",
    "    # Function Definition from Above:\n",
    "    #   flatten(x_tensor)\n",
    "    flat = flatten(conv_2)\n",
    "    \n",
    "    # TODO: Apply 1, 2, or 3 Fully Connected Layers\n",
    "    #    Play around with different number of outputs\n",
    "    # Function Definition from Above:\n",
    "    #   fully_conn(x_tensor, num_outputs)\n",
    "    # https://www.tensorflow.org/api_docs/python/tf/nn/dropout\n",
    "    fc_1 = fully_conn(flat, 512, scope_name=\"fc_1\")\n",
    "    fc_1 = tf.nn.dropout(fc_1, keep_prob, name=\"do_1\")\n",
    "    \n",
    "    fc_2 = fully_conn(fc_1, 512, scope_name=\"fc_2\")\n",
    "    fc_2 = tf.nn.dropout(fc_2, keep_prob, name=\"do_2\")\n",
    "    \n",
    "    \n",
    "    # TODO: Apply an Output Layer\n",
    "    #    Set this to the number of classes\n",
    "    # Function Definition from Above:\n",
    "    #   output(x_tensor, num_outputs)\n",
    "    x = output(fc_2, 10)\n",
    "    \n",
    "    # TODO: return output\n",
    "    return x\n",
    "\n",
    "\n",
    "\"\"\"\n",
    "DON'T MODIFY ANYTHING IN THIS CELL THAT IS BELOW THIS LINE\n",
    "\"\"\"\n",
    "\n",
    "##############################\n",
    "## Build the Neural Network ##\n",
    "##############################\n",
    "\n",
    "# Remove previous weights, bias, inputs, etc..\n",
    "tf.reset_default_graph()\n",
    "\n",
    "# Inputs\n",
    "x = neural_net_image_input((32, 32, 3))\n",
    "y = neural_net_label_input(10)\n",
    "keep_prob = neural_net_keep_prob_input()\n",
    "\n",
    "# Model\n",
    "logits = conv_net(x, keep_prob)\n",
    "\n",
    "# Name logits Tensor, so that is can be loaded from disk after training\n",
    "logits = tf.identity(logits, name='logits')\n",
    "\n",
    "# Loss and Optimizer\n",
    "cost = tf.reduce_mean(tf.nn.softmax_cross_entropy_with_logits(logits=logits, labels=y))\n",
    "optimizer = tf.train.AdamOptimizer().minimize(cost)\n",
    "\n",
    "# Accuracy\n",
    "correct_pred = tf.equal(tf.argmax(logits, 1), tf.argmax(y, 1))\n",
    "accuracy = tf.reduce_mean(tf.cast(correct_pred, tf.float32), name='accuracy')\n",
    "\n",
    "tests.test_conv_net(conv_net)"
   ]
  },
  {
   "cell_type": "markdown",
   "metadata": {
    "deletable": true,
    "editable": true
   },
   "source": [
    "## Train the Neural Network\n",
    "### Single Optimization\n",
    "Implement the function `train_neural_network` to do a single optimization.  The optimization should use `optimizer` to optimize in `session` with a `feed_dict` of the following:\n",
    "* `x` for image input\n",
    "* `y` for labels\n",
    "* `keep_prob` for keep probability for dropout\n",
    "\n",
    "This function will be called for each batch, so `tf.global_variables_initializer()` has already been called.\n",
    "\n",
    "Note: Nothing needs to be returned. This function is only optimizing the neural network."
   ]
  },
  {
   "cell_type": "code",
   "execution_count": 14,
   "metadata": {
    "ExecuteTime": {
     "end_time": "2017-03-30T01:31:36.718713+11:00",
     "start_time": "2017-03-30T01:31:36.568858"
    },
    "collapsed": false,
    "deletable": true,
    "editable": true
   },
   "outputs": [
    {
     "name": "stdout",
     "output_type": "stream",
     "text": [
      "Tests Passed\n"
     ]
    }
   ],
   "source": [
    "def train_neural_network(session, optimizer, keep_probability, feature_batch, label_batch):\n",
    "    \"\"\"\n",
    "    Optimize the session on a batch of images and labels\n",
    "    : session: Current TensorFlow session\n",
    "    : optimizer: TensorFlow optimizer function\n",
    "    : keep_probability: keep probability\n",
    "    : feature_batch: Batch of Numpy image data\n",
    "    : label_batch: Batch of Numpy label data\n",
    "    \"\"\"\n",
    "    session.run(optimizer, \n",
    "                feed_dict={x: feature_batch, \n",
    "                           y: label_batch, \n",
    "                           keep_prob: keep_probability})\n",
    "    \n",
    "\n",
    "\"\"\"\n",
    "DON'T MODIFY ANYTHING IN THIS CELL THAT IS BELOW THIS LINE\n",
    "\"\"\"\n",
    "tests.test_train_nn(train_neural_network)"
   ]
  },
  {
   "cell_type": "markdown",
   "metadata": {
    "deletable": true,
    "editable": true
   },
   "source": [
    "### Show Stats\n",
    "Implement the function `print_stats` to print loss and validation accuracy.  Use the global variables `valid_features` and `valid_labels` to calculate validation accuracy.  Use a keep probability of `1.0` to calculate the loss and validation accuracy."
   ]
  },
  {
   "cell_type": "code",
   "execution_count": 15,
   "metadata": {
    "ExecuteTime": {
     "end_time": "2017-03-30T01:31:38.176901+11:00",
     "start_time": "2017-03-30T01:31:38.164726"
    },
    "collapsed": false,
    "deletable": true,
    "editable": true
   },
   "outputs": [],
   "source": [
    "from datetime import datetime\n",
    "\n",
    "def print_stats(session, feature_batch, label_batch, cost, accuracy):\n",
    "    \"\"\"\n",
    "    Print information about loss and validation accuracy\n",
    "    : session: Current TensorFlow session\n",
    "    : feature_batch: Batch of Numpy image data\n",
    "    : label_batch: Batch of Numpy label data\n",
    "    : cost: TensorFlow cost function\n",
    "    : accuracy: TensorFlow accuracy function\n",
    "    \"\"\"\n",
    "    keep_prob_for_stats = 1.\n",
    "    cost_stat = session.run(cost,\n",
    "                            feed_dict={x: feature_batch,\n",
    "                                       y: label_batch, \n",
    "                                       keep_prob: keep_prob_for_stats})\n",
    "    accuracy_stat = session.run(accuracy,\n",
    "                                feed_dict={x: valid_features, \n",
    "                                           y: valid_labels, \n",
    "                                           keep_prob: keep_prob_for_stats})\n",
    "    print(\"{} Cost: {:.5f}\\tAccuracy: {:.5f}\".format(datetime.now(),\n",
    "                                                               cost_stat, \n",
    "                                                               accuracy_stat))"
   ]
  },
  {
   "cell_type": "markdown",
   "metadata": {
    "deletable": true,
    "editable": true
   },
   "source": [
    "### Hyperparameters\n",
    "Tune the following parameters:\n",
    "* Set `epochs` to the number of iterations until the network stops learning or start overfitting\n",
    "* Set `batch_size` to the highest number that your machine has memory for.  Most people set them to common sizes of memory:\n",
    " * 64\n",
    " * 128\n",
    " * 256\n",
    " * ...\n",
    "* Set `keep_probability` to the probability of keeping a node using dropout"
   ]
  },
  {
   "cell_type": "code",
   "execution_count": 16,
   "metadata": {
    "ExecuteTime": {
     "end_time": "2017-03-30T01:41:57.269797+11:00",
     "start_time": "2017-03-30T01:41:57.256472"
    },
    "collapsed": true,
    "deletable": true,
    "editable": true
   },
   "outputs": [],
   "source": [
    "# TODO: Tune Parameters\n",
    "epochs = 100\n",
    "batch_size = 256\n",
    "keep_probability = 0.75"
   ]
  },
  {
   "cell_type": "markdown",
   "metadata": {
    "deletable": true,
    "editable": true
   },
   "source": [
    "### Train on a Single CIFAR-10 Batch\n",
    "Instead of training the neural network on all the CIFAR-10 batches of data, let's use a single batch. This should save time while you iterate on the model to get a better accuracy.  Once the final validation accuracy is 50% or greater, run the model on all the data in the next section."
   ]
  },
  {
   "cell_type": "code",
   "execution_count": 17,
   "metadata": {
    "ExecuteTime": {
     "end_time": "2017-03-30T01:48:39.798470+11:00",
     "start_time": "2017-03-30T01:42:02.584030"
    },
    "collapsed": false,
    "deletable": true,
    "editable": true
   },
   "outputs": [
    {
     "name": "stdout",
     "output_type": "stream",
     "text": [
      "Checking the Training on a Single Batch...\n",
      "Epoch  1, CIFAR-10 Batch 1:  2017-03-30 10:58:00.115211 Cost: 2.11637\tAccuracy: 0.30980\n",
      "Epoch  2, CIFAR-10 Batch 1:  2017-03-30 10:58:04.043689 Cost: 1.70745\tAccuracy: 0.41680\n",
      "Epoch  3, CIFAR-10 Batch 1:  2017-03-30 10:58:07.973543 Cost: 1.32539\tAccuracy: 0.47300\n",
      "Epoch  4, CIFAR-10 Batch 1:  2017-03-30 10:58:11.901729 Cost: 1.03046\tAccuracy: 0.51800\n",
      "Epoch  5, CIFAR-10 Batch 1:  2017-03-30 10:58:15.859611 Cost: 0.83282\tAccuracy: 0.54620\n",
      "Epoch  6, CIFAR-10 Batch 1:  2017-03-30 10:58:19.789084 Cost: 0.66248\tAccuracy: 0.56300\n",
      "Epoch  7, CIFAR-10 Batch 1:  2017-03-30 10:58:23.723323 Cost: 0.49221\tAccuracy: 0.55780\n",
      "Epoch  8, CIFAR-10 Batch 1:  2017-03-30 10:58:27.636340 Cost: 0.36651\tAccuracy: 0.55440\n",
      "Epoch  9, CIFAR-10 Batch 1:  2017-03-30 10:58:31.536915 Cost: 0.26037\tAccuracy: 0.58000\n",
      "Epoch 10, CIFAR-10 Batch 1:  2017-03-30 10:58:35.430823 Cost: 0.16317\tAccuracy: 0.60820\n",
      "Epoch 11, CIFAR-10 Batch 1:  2017-03-30 10:58:39.335904 Cost: 0.12071\tAccuracy: 0.60180\n",
      "Epoch 12, CIFAR-10 Batch 1:  2017-03-30 10:58:43.232284 Cost: 0.07359\tAccuracy: 0.60720\n",
      "Epoch 13, CIFAR-10 Batch 1:  2017-03-30 10:58:47.130358 Cost: 0.07213\tAccuracy: 0.58860\n",
      "Epoch 14, CIFAR-10 Batch 1:  2017-03-30 10:58:51.066973 Cost: 0.05071\tAccuracy: 0.58880\n",
      "Epoch 15, CIFAR-10 Batch 1:  2017-03-30 10:58:55.018475 Cost: 0.03468\tAccuracy: 0.61960\n",
      "Epoch 16, CIFAR-10 Batch 1:  2017-03-30 10:58:58.978660 Cost: 0.02406\tAccuracy: 0.59280\n",
      "Epoch 17, CIFAR-10 Batch 1:  2017-03-30 10:59:02.934538 Cost: 0.01550\tAccuracy: 0.61060\n",
      "Epoch 18, CIFAR-10 Batch 1:  2017-03-30 10:59:06.885690 Cost: 0.00932\tAccuracy: 0.59760\n",
      "Epoch 19, CIFAR-10 Batch 1:  2017-03-30 10:59:10.821221 Cost: 0.00979\tAccuracy: 0.61240\n",
      "Epoch 20, CIFAR-10 Batch 1:  2017-03-30 10:59:14.778616 Cost: 0.00959\tAccuracy: 0.60400\n",
      "Epoch 21, CIFAR-10 Batch 1:  2017-03-30 10:59:18.739684 Cost: 0.00574\tAccuracy: 0.61200\n",
      "Epoch 22, CIFAR-10 Batch 1:  2017-03-30 10:59:22.683966 Cost: 0.00384\tAccuracy: 0.59000\n",
      "Epoch 23, CIFAR-10 Batch 1:  2017-03-30 10:59:26.641965 Cost: 0.00373\tAccuracy: 0.58840\n",
      "Epoch 24, CIFAR-10 Batch 1:  2017-03-30 10:59:30.599347 Cost: 0.00267\tAccuracy: 0.60980\n",
      "Epoch 25, CIFAR-10 Batch 1:  2017-03-30 10:59:34.551542 Cost: 0.00183\tAccuracy: 0.61340\n",
      "Epoch 26, CIFAR-10 Batch 1:  2017-03-30 10:59:38.505761 Cost: 0.00195\tAccuracy: 0.60880\n",
      "Epoch 27, CIFAR-10 Batch 1:  2017-03-30 10:59:42.461184 Cost: 0.00105\tAccuracy: 0.59820\n",
      "Epoch 28, CIFAR-10 Batch 1:  2017-03-30 10:59:46.395995 Cost: 0.00062\tAccuracy: 0.61700\n",
      "Epoch 29, CIFAR-10 Batch 1:  2017-03-30 10:59:50.324291 Cost: 0.00058\tAccuracy: 0.59320\n",
      "Epoch 30, CIFAR-10 Batch 1:  2017-03-30 10:59:54.267170 Cost: 0.00105\tAccuracy: 0.59860\n",
      "Epoch 31, CIFAR-10 Batch 1:  2017-03-30 10:59:58.226204 Cost: 0.00043\tAccuracy: 0.60600\n",
      "Epoch 32, CIFAR-10 Batch 1:  2017-03-30 11:00:02.176586 Cost: 0.00009\tAccuracy: 0.61920\n",
      "Epoch 33, CIFAR-10 Batch 1:  2017-03-30 11:00:06.136351 Cost: 0.00031\tAccuracy: 0.59640\n",
      "Epoch 34, CIFAR-10 Batch 1:  2017-03-30 11:00:10.095861 Cost: 0.00026\tAccuracy: 0.61640\n",
      "Epoch 35, CIFAR-10 Batch 1:  2017-03-30 11:00:14.047017 Cost: 0.00023\tAccuracy: 0.59900\n",
      "Epoch 36, CIFAR-10 Batch 1:  2017-03-30 11:00:18.002192 Cost: 0.00040\tAccuracy: 0.60940\n",
      "Epoch 37, CIFAR-10 Batch 1:  2017-03-30 11:00:21.959608 Cost: 0.00049\tAccuracy: 0.60080\n",
      "Epoch 38, CIFAR-10 Batch 1:  2017-03-30 11:00:25.921087 Cost: 0.00025\tAccuracy: 0.61160\n",
      "Epoch 39, CIFAR-10 Batch 1:  2017-03-30 11:00:29.874530 Cost: 0.00188\tAccuracy: 0.60800\n",
      "Epoch 40, CIFAR-10 Batch 1:  2017-03-30 11:00:33.804380 Cost: 0.00043\tAccuracy: 0.60840\n",
      "Epoch 41, CIFAR-10 Batch 1:  2017-03-30 11:00:37.711235 Cost: 0.00044\tAccuracy: 0.61280\n",
      "Epoch 42, CIFAR-10 Batch 1:  2017-03-30 11:00:41.616329 Cost: 0.00018\tAccuracy: 0.61820\n",
      "Epoch 43, CIFAR-10 Batch 1:  2017-03-30 11:00:45.525570 Cost: 0.00106\tAccuracy: 0.61360\n",
      "Epoch 44, CIFAR-10 Batch 1:  2017-03-30 11:00:49.427541 Cost: 0.00040\tAccuracy: 0.60480\n",
      "Epoch 45, CIFAR-10 Batch 1:  2017-03-30 11:00:53.334148 Cost: 0.00010\tAccuracy: 0.61540\n",
      "Epoch 46, CIFAR-10 Batch 1:  2017-03-30 11:00:57.241412 Cost: 0.00019\tAccuracy: 0.61320\n",
      "Epoch 47, CIFAR-10 Batch 1:  2017-03-30 11:01:01.161667 Cost: 0.00008\tAccuracy: 0.61100\n",
      "Epoch 48, CIFAR-10 Batch 1:  2017-03-30 11:01:05.086942 Cost: 0.00005\tAccuracy: 0.61820\n",
      "Epoch 49, CIFAR-10 Batch 1:  2017-03-30 11:01:08.989266 Cost: 0.00013\tAccuracy: 0.60520\n",
      "Epoch 50, CIFAR-10 Batch 1:  2017-03-30 11:01:12.916015 Cost: 0.00006\tAccuracy: 0.62220\n",
      "Epoch 51, CIFAR-10 Batch 1:  2017-03-30 11:01:16.842796 Cost: 0.00003\tAccuracy: 0.61280\n",
      "Epoch 52, CIFAR-10 Batch 1:  2017-03-30 11:01:20.754801 Cost: 0.00005\tAccuracy: 0.61960\n",
      "Epoch 53, CIFAR-10 Batch 1:  2017-03-30 11:01:24.686203 Cost: 0.00014\tAccuracy: 0.60840\n",
      "Epoch 54, CIFAR-10 Batch 1:  2017-03-30 11:01:28.618164 Cost: 0.00012\tAccuracy: 0.60280\n",
      "Epoch 55, CIFAR-10 Batch 1:  2017-03-30 11:01:32.547173 Cost: 0.00007\tAccuracy: 0.60520\n",
      "Epoch 56, CIFAR-10 Batch 1:  2017-03-30 11:01:36.484431 Cost: 0.00032\tAccuracy: 0.59960\n",
      "Epoch 57, CIFAR-10 Batch 1:  2017-03-30 11:01:40.425508 Cost: 0.00019\tAccuracy: 0.60640\n",
      "Epoch 58, CIFAR-10 Batch 1:  2017-03-30 11:01:44.357909 Cost: 0.00021\tAccuracy: 0.61040\n",
      "Epoch 59, CIFAR-10 Batch 1:  2017-03-30 11:01:48.306429 Cost: 0.00015\tAccuracy: 0.61260\n",
      "Epoch 60, CIFAR-10 Batch 1:  2017-03-30 11:01:52.244263 Cost: 0.00010\tAccuracy: 0.59940\n",
      "Epoch 61, CIFAR-10 Batch 1:  2017-03-30 11:01:56.191412 Cost: 0.00006\tAccuracy: 0.61200\n",
      "Epoch 62, CIFAR-10 Batch 1:  2017-03-30 11:02:00.138192 Cost: 0.00046\tAccuracy: 0.59200\n",
      "Epoch 63, CIFAR-10 Batch 1:  2017-03-30 11:02:04.067029 Cost: 0.00004\tAccuracy: 0.59820\n",
      "Epoch 64, CIFAR-10 Batch 1:  2017-03-30 11:02:08.012044 Cost: 0.00005\tAccuracy: 0.61500\n",
      "Epoch 65, CIFAR-10 Batch 1:  2017-03-30 11:02:11.976016 Cost: 0.00007\tAccuracy: 0.62380\n",
      "Epoch 66, CIFAR-10 Batch 1:  2017-03-30 11:02:15.928209 Cost: 0.00008\tAccuracy: 0.60900\n",
      "Epoch 67, CIFAR-10 Batch 1:  2017-03-30 11:02:19.887444 Cost: 0.00418\tAccuracy: 0.61040\n",
      "Epoch 68, CIFAR-10 Batch 1:  2017-03-30 11:02:23.832479 Cost: 0.00017\tAccuracy: 0.60220\n",
      "Epoch 69, CIFAR-10 Batch 1:  2017-03-30 11:02:27.783042 Cost: 0.00012\tAccuracy: 0.60880\n",
      "Epoch 70, CIFAR-10 Batch 1:  2017-03-30 11:02:31.743753 Cost: 0.00007\tAccuracy: 0.60580\n",
      "Epoch 71, CIFAR-10 Batch 1:  2017-03-30 11:02:35.695295 Cost: 0.00009\tAccuracy: 0.60500\n",
      "Epoch 72, CIFAR-10 Batch 1:  2017-03-30 11:02:39.640664 Cost: 0.00012\tAccuracy: 0.61120\n",
      "Epoch 73, CIFAR-10 Batch 1:  2017-03-30 11:02:43.582336 Cost: 0.00022\tAccuracy: 0.60720\n",
      "Epoch 74, CIFAR-10 Batch 1:  2017-03-30 11:02:47.528370 Cost: 0.00003\tAccuracy: 0.60660\n",
      "Epoch 75, CIFAR-10 Batch 1:  2017-03-30 11:02:51.468525 Cost: 0.00005\tAccuracy: 0.61000\n",
      "Epoch 76, CIFAR-10 Batch 1:  2017-03-30 11:02:55.409368 Cost: 0.00105\tAccuracy: 0.60820\n",
      "Epoch 77, CIFAR-10 Batch 1:  2017-03-30 11:02:59.356199 Cost: 0.00003\tAccuracy: 0.60980\n",
      "Epoch 78, CIFAR-10 Batch 1:  2017-03-30 11:03:03.303677 Cost: 0.00001\tAccuracy: 0.60660\n",
      "Epoch 79, CIFAR-10 Batch 1:  2017-03-30 11:03:07.251324 Cost: 0.00003\tAccuracy: 0.60880\n",
      "Epoch 80, CIFAR-10 Batch 1:  2017-03-30 11:03:11.197674 Cost: 0.00001\tAccuracy: 0.60820\n",
      "Epoch 81, CIFAR-10 Batch 1:  2017-03-30 11:03:15.155783 Cost: 0.00001\tAccuracy: 0.60620\n",
      "Epoch 82, CIFAR-10 Batch 1:  2017-03-30 11:03:19.094772 Cost: 0.00001\tAccuracy: 0.61080\n",
      "Epoch 83, CIFAR-10 Batch 1:  2017-03-30 11:03:23.031265 Cost: 0.00001\tAccuracy: 0.61800\n",
      "Epoch 84, CIFAR-10 Batch 1:  2017-03-30 11:03:26.986889 Cost: 0.00002\tAccuracy: 0.60920\n",
      "Epoch 85, CIFAR-10 Batch 1:  2017-03-30 11:03:30.941752 Cost: 0.00002\tAccuracy: 0.61280\n",
      "Epoch 86, CIFAR-10 Batch 1:  2017-03-30 11:03:34.897037 Cost: 0.00266\tAccuracy: 0.61140\n",
      "Epoch 87, CIFAR-10 Batch 1:  2017-03-30 11:03:38.858599 Cost: 0.00005\tAccuracy: 0.60940\n",
      "Epoch 88, CIFAR-10 Batch 1:  2017-03-30 11:03:42.808992 Cost: 0.00001\tAccuracy: 0.61920\n",
      "Epoch 89, CIFAR-10 Batch 1:  2017-03-30 11:03:46.765485 Cost: 0.00004\tAccuracy: 0.61740\n",
      "Epoch 90, CIFAR-10 Batch 1:  2017-03-30 11:03:50.715428 Cost: 0.00005\tAccuracy: 0.60360\n",
      "Epoch 91, CIFAR-10 Batch 1:  2017-03-30 11:03:54.674878 Cost: 0.00004\tAccuracy: 0.61640\n",
      "Epoch 92, CIFAR-10 Batch 1:  2017-03-30 11:03:58.624570 Cost: 0.00002\tAccuracy: 0.61400\n",
      "Epoch 93, CIFAR-10 Batch 1:  2017-03-30 11:04:02.589451 Cost: 0.00001\tAccuracy: 0.60340\n",
      "Epoch 94, CIFAR-10 Batch 1:  2017-03-30 11:04:06.514110 Cost: 0.00002\tAccuracy: 0.60740\n",
      "Epoch 95, CIFAR-10 Batch 1:  2017-03-30 11:04:10.420065 Cost: 0.00003\tAccuracy: 0.61560\n",
      "Epoch 96, CIFAR-10 Batch 1:  2017-03-30 11:04:14.348126 Cost: 0.00000\tAccuracy: 0.61400\n",
      "Epoch 97, CIFAR-10 Batch 1:  2017-03-30 11:04:18.262311 Cost: 0.00009\tAccuracy: 0.60760\n",
      "Epoch 98, CIFAR-10 Batch 1:  2017-03-30 11:04:22.192323 Cost: 0.00002\tAccuracy: 0.59700\n",
      "Epoch 99, CIFAR-10 Batch 1:  2017-03-30 11:04:26.120017 Cost: 0.00005\tAccuracy: 0.60660\n",
      "Epoch 100, CIFAR-10 Batch 1:  2017-03-30 11:04:30.036018 Cost: 0.00006\tAccuracy: 0.60720\n"
     ]
    }
   ],
   "source": [
    "\"\"\"\n",
    "DON'T MODIFY ANYTHING IN THIS CELL\n",
    "\"\"\"\n",
    "print('Checking the Training on a Single Batch...')\n",
    "with tf.Session() as sess:\n",
    "    # Initializing the variables\n",
    "    sess.run(tf.global_variables_initializer())\n",
    "    \n",
    "    # Training cycle\n",
    "    for epoch in range(epochs):\n",
    "        batch_i = 1\n",
    "        for batch_features, batch_labels in helper.load_preprocess_training_batch(batch_i, batch_size):\n",
    "            train_neural_network(sess, optimizer, keep_probability, batch_features, batch_labels)\n",
    "        print('Epoch {:>2}, CIFAR-10 Batch {}:  '.format(epoch + 1, batch_i), end='')\n",
    "        print_stats(sess, batch_features, batch_labels, cost, accuracy)"
   ]
  },
  {
   "cell_type": "code",
   "execution_count": 18,
   "metadata": {
    "ExecuteTime": {
     "end_time": "2017-03-30T01:27:55.614678+11:00",
     "start_time": "2017-03-30T01:24:11.493609"
    },
    "collapsed": false,
    "deletable": true,
    "editable": true
   },
   "outputs": [
    {
     "name": "stdout",
     "output_type": "stream",
     "text": [
      "Training...\n",
      "Epoch  1, CIFAR-10 Batch 1:  2017-03-30 11:04:34.079515 Cost: 2.06709\tAccuracy: 0.31040\n",
      "Epoch  1, CIFAR-10 Batch 2:  2017-03-30 11:04:38.002438 Cost: 1.43076\tAccuracy: 0.41260\n",
      "Epoch  1, CIFAR-10 Batch 3:  2017-03-30 11:04:41.912073 Cost: 1.21854\tAccuracy: 0.46900\n",
      "Epoch  1, CIFAR-10 Batch 4:  2017-03-30 11:04:45.861012 Cost: 1.32382\tAccuracy: 0.51600\n",
      "Epoch  1, CIFAR-10 Batch 5:  2017-03-30 11:04:49.807611 Cost: 1.22135\tAccuracy: 0.54360\n",
      "Epoch  2, CIFAR-10 Batch 1:  2017-03-30 11:04:53.753475 Cost: 1.34290\tAccuracy: 0.56140\n",
      "Epoch  2, CIFAR-10 Batch 2:  2017-03-30 11:04:57.699062 Cost: 0.85420\tAccuracy: 0.57320\n",
      "Epoch  2, CIFAR-10 Batch 3:  2017-03-30 11:05:01.647009 Cost: 0.68395\tAccuracy: 0.58120\n",
      "Epoch  2, CIFAR-10 Batch 4:  2017-03-30 11:05:05.602446 Cost: 0.81972\tAccuracy: 0.60660\n",
      "Epoch  2, CIFAR-10 Batch 5:  2017-03-30 11:05:09.542358 Cost: 0.75457\tAccuracy: 0.60720\n",
      "Epoch  3, CIFAR-10 Batch 1:  2017-03-30 11:05:13.496279 Cost: 0.85121\tAccuracy: 0.64000\n",
      "Epoch  3, CIFAR-10 Batch 2:  2017-03-30 11:05:17.445689 Cost: 0.51823\tAccuracy: 0.62320\n",
      "Epoch  3, CIFAR-10 Batch 3:  2017-03-30 11:05:21.401470 Cost: 0.40426\tAccuracy: 0.65200\n",
      "Epoch  3, CIFAR-10 Batch 4:  2017-03-30 11:05:25.337603 Cost: 0.50455\tAccuracy: 0.65540\n",
      "Epoch  3, CIFAR-10 Batch 5:  2017-03-30 11:05:29.276507 Cost: 0.39841\tAccuracy: 0.66540\n",
      "Epoch  4, CIFAR-10 Batch 1:  2017-03-30 11:05:33.225855 Cost: 0.51236\tAccuracy: 0.67820\n",
      "Epoch  4, CIFAR-10 Batch 2:  2017-03-30 11:05:37.151697 Cost: 0.29252\tAccuracy: 0.64520\n",
      "Epoch  4, CIFAR-10 Batch 3:  2017-03-30 11:05:41.106800 Cost: 0.23340\tAccuracy: 0.68880\n",
      "Epoch  4, CIFAR-10 Batch 4:  2017-03-30 11:05:45.061145 Cost: 0.30916\tAccuracy: 0.66320\n",
      "Epoch  4, CIFAR-10 Batch 5:  2017-03-30 11:05:48.973368 Cost: 0.23510\tAccuracy: 0.66360\n",
      "Epoch  5, CIFAR-10 Batch 1:  2017-03-30 11:05:52.890192 Cost: 0.29519\tAccuracy: 0.66360\n",
      "Epoch  5, CIFAR-10 Batch 2:  2017-03-30 11:05:56.806011 Cost: 0.14689\tAccuracy: 0.67320\n",
      "Epoch  5, CIFAR-10 Batch 3:  2017-03-30 11:06:00.744259 Cost: 0.14422\tAccuracy: 0.68140\n",
      "Epoch  5, CIFAR-10 Batch 4:  2017-03-30 11:06:04.670625 Cost: 0.19242\tAccuracy: 0.69420\n",
      "Epoch  5, CIFAR-10 Batch 5:  2017-03-30 11:06:08.633166 Cost: 0.13625\tAccuracy: 0.68720\n",
      "Epoch  6, CIFAR-10 Batch 1:  2017-03-30 11:06:12.603854 Cost: 0.18957\tAccuracy: 0.68280\n",
      "Epoch  6, CIFAR-10 Batch 2:  2017-03-30 11:06:16.573208 Cost: 0.07782\tAccuracy: 0.69120\n",
      "Epoch  6, CIFAR-10 Batch 3:  2017-03-30 11:06:20.535314 Cost: 0.08581\tAccuracy: 0.68640\n",
      "Epoch  6, CIFAR-10 Batch 4:  2017-03-30 11:06:24.496846 Cost: 0.10816\tAccuracy: 0.70400\n",
      "Epoch  6, CIFAR-10 Batch 5:  2017-03-30 11:06:28.435549 Cost: 0.06381\tAccuracy: 0.69400\n",
      "Epoch  7, CIFAR-10 Batch 1:  2017-03-30 11:06:32.397686 Cost: 0.10979\tAccuracy: 0.70280\n",
      "Epoch  7, CIFAR-10 Batch 2:  2017-03-30 11:06:36.351671 Cost: 0.04259\tAccuracy: 0.70460\n",
      "Epoch  7, CIFAR-10 Batch 3:  2017-03-30 11:06:40.296939 Cost: 0.05247\tAccuracy: 0.69000\n",
      "Epoch  7, CIFAR-10 Batch 4:  2017-03-30 11:06:44.257654 Cost: 0.05547\tAccuracy: 0.70520\n",
      "Epoch  7, CIFAR-10 Batch 5:  2017-03-30 11:06:48.222390 Cost: 0.03757\tAccuracy: 0.67780\n",
      "Epoch  8, CIFAR-10 Batch 1:  2017-03-30 11:06:52.185297 Cost: 0.06295\tAccuracy: 0.69380\n",
      "Epoch  8, CIFAR-10 Batch 2:  2017-03-30 11:06:56.149752 Cost: 0.03195\tAccuracy: 0.69980\n",
      "Epoch  8, CIFAR-10 Batch 3:  2017-03-30 11:07:00.075009 Cost: 0.04532\tAccuracy: 0.69240\n",
      "Epoch  8, CIFAR-10 Batch 4:  2017-03-30 11:07:04.006806 Cost: 0.03031\tAccuracy: 0.70820\n",
      "Epoch  8, CIFAR-10 Batch 5:  2017-03-30 11:07:07.933848 Cost: 0.02226\tAccuracy: 0.70120\n",
      "Epoch  9, CIFAR-10 Batch 1:  2017-03-30 11:07:11.868322 Cost: 0.06480\tAccuracy: 0.68680\n",
      "Epoch  9, CIFAR-10 Batch 2:  2017-03-30 11:07:15.799432 Cost: 0.00949\tAccuracy: 0.71020\n",
      "Epoch  9, CIFAR-10 Batch 3:  2017-03-30 11:07:19.726609 Cost: 0.03178\tAccuracy: 0.68300\n",
      "Epoch  9, CIFAR-10 Batch 4:  2017-03-30 11:07:23.650786 Cost: 0.02054\tAccuracy: 0.69400\n",
      "Epoch  9, CIFAR-10 Batch 5:  2017-03-30 11:07:27.576328 Cost: 0.01589\tAccuracy: 0.69460\n",
      "Epoch 10, CIFAR-10 Batch 1:  2017-03-30 11:07:31.519542 Cost: 0.02444\tAccuracy: 0.68280\n",
      "Epoch 10, CIFAR-10 Batch 2:  2017-03-30 11:07:35.481472 Cost: 0.00898\tAccuracy: 0.69680\n",
      "Epoch 10, CIFAR-10 Batch 3:  2017-03-30 11:07:39.444408 Cost: 0.01411\tAccuracy: 0.69140\n",
      "Epoch 10, CIFAR-10 Batch 4:  2017-03-30 11:07:43.405266 Cost: 0.01830\tAccuracy: 0.69300\n",
      "Epoch 10, CIFAR-10 Batch 5:  2017-03-30 11:07:47.322039 Cost: 0.00718\tAccuracy: 0.70820\n",
      "Epoch 11, CIFAR-10 Batch 1:  2017-03-30 11:07:51.227112 Cost: 0.02016\tAccuracy: 0.68240\n",
      "Epoch 11, CIFAR-10 Batch 2:  2017-03-30 11:07:55.130278 Cost: 0.02691\tAccuracy: 0.67120\n",
      "Epoch 11, CIFAR-10 Batch 3:  2017-03-30 11:07:59.029711 Cost: 0.00843\tAccuracy: 0.69600\n",
      "Epoch 11, CIFAR-10 Batch 4:  2017-03-30 11:08:02.938498 Cost: 0.01325\tAccuracy: 0.67640\n",
      "Epoch 11, CIFAR-10 Batch 5:  2017-03-30 11:08:06.842406 Cost: 0.00476\tAccuracy: 0.71260\n",
      "Epoch 12, CIFAR-10 Batch 1:  2017-03-30 11:08:10.746134 Cost: 0.01089\tAccuracy: 0.68660\n",
      "Epoch 12, CIFAR-10 Batch 2:  2017-03-30 11:08:14.653860 Cost: 0.00688\tAccuracy: 0.66960\n",
      "Epoch 12, CIFAR-10 Batch 3:  2017-03-30 11:08:18.556085 Cost: 0.00477\tAccuracy: 0.70420\n",
      "Epoch 12, CIFAR-10 Batch 4:  2017-03-30 11:08:22.463909 Cost: 0.01065\tAccuracy: 0.68620\n",
      "Epoch 12, CIFAR-10 Batch 5:  2017-03-30 11:08:26.363955 Cost: 0.00248\tAccuracy: 0.71600\n",
      "Epoch 13, CIFAR-10 Batch 1:  2017-03-30 11:08:30.270701 Cost: 0.01054\tAccuracy: 0.67020\n",
      "Epoch 13, CIFAR-10 Batch 2:  2017-03-30 11:08:34.169545 Cost: 0.01224\tAccuracy: 0.67200\n",
      "Epoch 13, CIFAR-10 Batch 3:  2017-03-30 11:08:38.076455 Cost: 0.00236\tAccuracy: 0.70840\n",
      "Epoch 13, CIFAR-10 Batch 4:  2017-03-30 11:08:41.978848 Cost: 0.00307\tAccuracy: 0.69800\n",
      "Epoch 13, CIFAR-10 Batch 5:  2017-03-30 11:08:45.877925 Cost: 0.00354\tAccuracy: 0.70580\n",
      "Epoch 14, CIFAR-10 Batch 1:  2017-03-30 11:08:49.788401 Cost: 0.00652\tAccuracy: 0.69580\n",
      "Epoch 14, CIFAR-10 Batch 2:  2017-03-30 11:08:53.686956 Cost: 0.00244\tAccuracy: 0.68820\n",
      "Epoch 14, CIFAR-10 Batch 3:  2017-03-30 11:08:57.588021 Cost: 0.01115\tAccuracy: 0.70620\n",
      "Epoch 14, CIFAR-10 Batch 4:  2017-03-30 11:09:01.490960 Cost: 0.00290\tAccuracy: 0.70180\n",
      "Epoch 14, CIFAR-10 Batch 5:  2017-03-30 11:09:05.390152 Cost: 0.00157\tAccuracy: 0.70840\n",
      "Epoch 15, CIFAR-10 Batch 1:  2017-03-30 11:09:09.319939 Cost: 0.00374\tAccuracy: 0.68460\n",
      "Epoch 15, CIFAR-10 Batch 2:  2017-03-30 11:09:13.252504 Cost: 0.00419\tAccuracy: 0.69220\n",
      "Epoch 15, CIFAR-10 Batch 3:  2017-03-30 11:09:17.181652 Cost: 0.00085\tAccuracy: 0.70020\n",
      "Epoch 15, CIFAR-10 Batch 4:  2017-03-30 11:09:21.080352 Cost: 0.00211\tAccuracy: 0.70020\n",
      "Epoch 15, CIFAR-10 Batch 5:  2017-03-30 11:09:24.982587 Cost: 0.00090\tAccuracy: 0.70800\n",
      "Epoch 16, CIFAR-10 Batch 1:  2017-03-30 11:09:28.890609 Cost: 0.00316\tAccuracy: 0.69020\n",
      "Epoch 16, CIFAR-10 Batch 2:  2017-03-30 11:09:32.796618 Cost: 0.00147\tAccuracy: 0.69520\n",
      "Epoch 16, CIFAR-10 Batch 3:  2017-03-30 11:09:36.723265 Cost: 0.00036\tAccuracy: 0.70000\n",
      "Epoch 16, CIFAR-10 Batch 4:  2017-03-30 11:09:40.644163 Cost: 0.00195\tAccuracy: 0.70660\n",
      "Epoch 16, CIFAR-10 Batch 5:  2017-03-30 11:09:44.550980 Cost: 0.00073\tAccuracy: 0.70440\n",
      "Epoch 17, CIFAR-10 Batch 1:  2017-03-30 11:09:48.458649 Cost: 0.00128\tAccuracy: 0.70320\n",
      "Epoch 17, CIFAR-10 Batch 2:  2017-03-30 11:09:52.381636 Cost: 0.00099\tAccuracy: 0.70940\n",
      "Epoch 17, CIFAR-10 Batch 3:  2017-03-30 11:09:56.291246 Cost: 0.00121\tAccuracy: 0.70640\n",
      "Epoch 17, CIFAR-10 Batch 4:  2017-03-30 11:10:00.206580 Cost: 0.00107\tAccuracy: 0.71240\n",
      "Epoch 17, CIFAR-10 Batch 5:  2017-03-30 11:10:04.126899 Cost: 0.00104\tAccuracy: 0.70240\n",
      "Epoch 18, CIFAR-10 Batch 1:  2017-03-30 11:10:08.037677 Cost: 0.00239\tAccuracy: 0.69240\n",
      "Epoch 18, CIFAR-10 Batch 2:  2017-03-30 11:10:11.943470 Cost: 0.00052\tAccuracy: 0.70620\n",
      "Epoch 18, CIFAR-10 Batch 3:  2017-03-30 11:10:15.880387 Cost: 0.00011\tAccuracy: 0.70700\n",
      "Epoch 18, CIFAR-10 Batch 4:  2017-03-30 11:10:19.794015 Cost: 0.00189\tAccuracy: 0.69960\n",
      "Epoch 18, CIFAR-10 Batch 5:  2017-03-30 11:10:23.708201 Cost: 0.00047\tAccuracy: 0.70000\n",
      "Epoch 19, CIFAR-10 Batch 1:  2017-03-30 11:10:27.635837 Cost: 0.00153\tAccuracy: 0.70080\n",
      "Epoch 19, CIFAR-10 Batch 2:  2017-03-30 11:10:31.577106 Cost: 0.00042\tAccuracy: 0.70600\n",
      "Epoch 19, CIFAR-10 Batch 3:  2017-03-30 11:10:35.499573 Cost: 0.00054\tAccuracy: 0.70720\n",
      "Epoch 19, CIFAR-10 Batch 4:  2017-03-30 11:10:39.423114 Cost: 0.00081\tAccuracy: 0.71420\n",
      "Epoch 19, CIFAR-10 Batch 5:  2017-03-30 11:10:43.352452 Cost: 0.00063\tAccuracy: 0.70900\n",
      "Epoch 20, CIFAR-10 Batch 1:  2017-03-30 11:10:47.292035 Cost: 0.00141\tAccuracy: 0.69840\n",
      "Epoch 20, CIFAR-10 Batch 2:  2017-03-30 11:10:51.204883 Cost: 0.00018\tAccuracy: 0.71380\n",
      "Epoch 20, CIFAR-10 Batch 3:  2017-03-30 11:10:55.126402 Cost: 0.00017\tAccuracy: 0.69960\n",
      "Epoch 20, CIFAR-10 Batch 4:  2017-03-30 11:10:59.049627 Cost: 0.00047\tAccuracy: 0.70360\n",
      "Epoch 20, CIFAR-10 Batch 5:  2017-03-30 11:11:02.975447 Cost: 0.00056\tAccuracy: 0.70440\n",
      "Epoch 21, CIFAR-10 Batch 1:  2017-03-30 11:11:06.883450 Cost: 0.00096\tAccuracy: 0.68840\n",
      "Epoch 21, CIFAR-10 Batch 2:  2017-03-30 11:11:10.828952 Cost: 0.00066\tAccuracy: 0.69220\n",
      "Epoch 21, CIFAR-10 Batch 3:  2017-03-30 11:11:14.754300 Cost: 0.00027\tAccuracy: 0.70760\n",
      "Epoch 21, CIFAR-10 Batch 4:  2017-03-30 11:11:18.674308 Cost: 0.00042\tAccuracy: 0.71460\n",
      "Epoch 21, CIFAR-10 Batch 5:  2017-03-30 11:11:22.609207 Cost: 0.00018\tAccuracy: 0.70620\n",
      "Epoch 22, CIFAR-10 Batch 1:  2017-03-30 11:11:26.543312 Cost: 0.00176\tAccuracy: 0.68940\n",
      "Epoch 22, CIFAR-10 Batch 2:  2017-03-30 11:11:30.470833 Cost: 0.00053\tAccuracy: 0.70180\n",
      "Epoch 22, CIFAR-10 Batch 3:  2017-03-30 11:11:34.374988 Cost: 0.00033\tAccuracy: 0.69820\n",
      "Epoch 22, CIFAR-10 Batch 4:  2017-03-30 11:11:38.291902 Cost: 0.00029\tAccuracy: 0.69840\n",
      "Epoch 22, CIFAR-10 Batch 5:  2017-03-30 11:11:42.201845 Cost: 0.00037\tAccuracy: 0.70260\n",
      "Epoch 23, CIFAR-10 Batch 1:  2017-03-30 11:11:46.113792 Cost: 0.00164\tAccuracy: 0.70020\n",
      "Epoch 23, CIFAR-10 Batch 2:  2017-03-30 11:11:50.015391 Cost: 0.00041\tAccuracy: 0.70440\n",
      "Epoch 23, CIFAR-10 Batch 3:  2017-03-30 11:11:53.919286 Cost: 0.00009\tAccuracy: 0.70200\n",
      "Epoch 23, CIFAR-10 Batch 4:  2017-03-30 11:11:57.816431 Cost: 0.00065\tAccuracy: 0.69400\n",
      "Epoch 23, CIFAR-10 Batch 5:  2017-03-30 11:12:01.722509 Cost: 0.00088\tAccuracy: 0.69860\n",
      "Epoch 24, CIFAR-10 Batch 1:  2017-03-30 11:12:05.634605 Cost: 0.00231\tAccuracy: 0.70160\n",
      "Epoch 24, CIFAR-10 Batch 2:  2017-03-30 11:12:09.542324 Cost: 0.00089\tAccuracy: 0.70760\n",
      "Epoch 24, CIFAR-10 Batch 3:  2017-03-30 11:12:13.450669 Cost: 0.00046\tAccuracy: 0.70240\n",
      "Epoch 24, CIFAR-10 Batch 4:  2017-03-30 11:12:17.351588 Cost: 0.00033\tAccuracy: 0.70560\n",
      "Epoch 24, CIFAR-10 Batch 5:  2017-03-30 11:12:21.251157 Cost: 0.00119\tAccuracy: 0.70980\n",
      "Epoch 25, CIFAR-10 Batch 1:  2017-03-30 11:12:25.155569 Cost: 0.00071\tAccuracy: 0.70580\n",
      "Epoch 25, CIFAR-10 Batch 2:  2017-03-30 11:12:29.060462 Cost: 0.00023\tAccuracy: 0.70140\n",
      "Epoch 25, CIFAR-10 Batch 3:  2017-03-30 11:12:32.984886 Cost: 0.00163\tAccuracy: 0.69320\n",
      "Epoch 25, CIFAR-10 Batch 4:  2017-03-30 11:12:36.891025 Cost: 0.00164\tAccuracy: 0.70600\n",
      "Epoch 25, CIFAR-10 Batch 5:  2017-03-30 11:12:40.790604 Cost: 0.00013\tAccuracy: 0.71680\n",
      "Epoch 26, CIFAR-10 Batch 1:  2017-03-30 11:12:44.691195 Cost: 0.00077\tAccuracy: 0.70320\n",
      "Epoch 26, CIFAR-10 Batch 2:  2017-03-30 11:12:48.592745 Cost: 0.00278\tAccuracy: 0.70600\n",
      "Epoch 26, CIFAR-10 Batch 3:  2017-03-30 11:12:52.496541 Cost: 0.00013\tAccuracy: 0.70000\n",
      "Epoch 26, CIFAR-10 Batch 4:  2017-03-30 11:12:56.397320 Cost: 0.00029\tAccuracy: 0.70220\n",
      "Epoch 26, CIFAR-10 Batch 5:  2017-03-30 11:13:00.291293 Cost: 0.00053\tAccuracy: 0.71000\n",
      "Epoch 27, CIFAR-10 Batch 1:  2017-03-30 11:13:04.199163 Cost: 0.00078\tAccuracy: 0.70880\n",
      "Epoch 27, CIFAR-10 Batch 2:  2017-03-30 11:13:08.104342 Cost: 0.00006\tAccuracy: 0.69360\n",
      "Epoch 27, CIFAR-10 Batch 3:  2017-03-30 11:13:12.004269 Cost: 0.00019\tAccuracy: 0.70520\n",
      "Epoch 27, CIFAR-10 Batch 4:  2017-03-30 11:13:15.908056 Cost: 0.00072\tAccuracy: 0.69220\n",
      "Epoch 27, CIFAR-10 Batch 5:  2017-03-30 11:13:19.806360 Cost: 0.00019\tAccuracy: 0.71440\n",
      "Epoch 28, CIFAR-10 Batch 1:  2017-03-30 11:13:23.707427 Cost: 0.00021\tAccuracy: 0.71340\n",
      "Epoch 28, CIFAR-10 Batch 2:  2017-03-30 11:13:27.622639 Cost: 0.00372\tAccuracy: 0.69680\n",
      "Epoch 28, CIFAR-10 Batch 3:  2017-03-30 11:13:31.541893 Cost: 0.00057\tAccuracy: 0.70440\n",
      "Epoch 28, CIFAR-10 Batch 4:  2017-03-30 11:13:35.462207 Cost: 0.00054\tAccuracy: 0.68940\n",
      "Epoch 28, CIFAR-10 Batch 5:  2017-03-30 11:13:39.356500 Cost: 0.00014\tAccuracy: 0.71540\n",
      "Epoch 29, CIFAR-10 Batch 1:  2017-03-30 11:13:43.257557 Cost: 0.00009\tAccuracy: 0.71620\n",
      "Epoch 29, CIFAR-10 Batch 2:  2017-03-30 11:13:47.156180 Cost: 0.00014\tAccuracy: 0.70540\n",
      "Epoch 29, CIFAR-10 Batch 3:  2017-03-30 11:13:51.055729 Cost: 0.00006\tAccuracy: 0.70540\n",
      "Epoch 29, CIFAR-10 Batch 4:  2017-03-30 11:13:54.950599 Cost: 0.00074\tAccuracy: 0.67720\n",
      "Epoch 29, CIFAR-10 Batch 5:  2017-03-30 11:13:58.846085 Cost: 0.00071\tAccuracy: 0.71020\n",
      "Epoch 30, CIFAR-10 Batch 1:  2017-03-30 11:14:02.752865 Cost: 0.00051\tAccuracy: 0.70800\n",
      "Epoch 30, CIFAR-10 Batch 2:  2017-03-30 11:14:06.669142 Cost: 0.00073\tAccuracy: 0.70140\n",
      "Epoch 30, CIFAR-10 Batch 3:  2017-03-30 11:14:10.590679 Cost: 0.00003\tAccuracy: 0.70780\n",
      "Epoch 30, CIFAR-10 Batch 4:  2017-03-30 11:14:14.494902 Cost: 0.00027\tAccuracy: 0.70240\n",
      "Epoch 30, CIFAR-10 Batch 5:  2017-03-30 11:14:18.414794 Cost: 0.00028\tAccuracy: 0.71100\n",
      "Epoch 31, CIFAR-10 Batch 1:  2017-03-30 11:14:22.345045 Cost: 0.00022\tAccuracy: 0.71180\n",
      "Epoch 31, CIFAR-10 Batch 2:  2017-03-30 11:14:26.263824 Cost: 0.00030\tAccuracy: 0.70180\n",
      "Epoch 31, CIFAR-10 Batch 3:  2017-03-30 11:14:30.166275 Cost: 0.00023\tAccuracy: 0.69780\n",
      "Epoch 31, CIFAR-10 Batch 4:  2017-03-30 11:14:34.065995 Cost: 0.00017\tAccuracy: 0.69760\n",
      "Epoch 31, CIFAR-10 Batch 5:  2017-03-30 11:14:37.966567 Cost: 0.00016\tAccuracy: 0.70480\n",
      "Epoch 32, CIFAR-10 Batch 1:  2017-03-30 11:14:41.879224 Cost: 0.00004\tAccuracy: 0.70500\n",
      "Epoch 32, CIFAR-10 Batch 2:  2017-03-30 11:14:45.789885 Cost: 0.00014\tAccuracy: 0.70060\n",
      "Epoch 32, CIFAR-10 Batch 3:  2017-03-30 11:14:49.692374 Cost: 0.00045\tAccuracy: 0.69800\n",
      "Epoch 32, CIFAR-10 Batch 4:  2017-03-30 11:14:53.594234 Cost: 0.00019\tAccuracy: 0.69880\n",
      "Epoch 32, CIFAR-10 Batch 5:  2017-03-30 11:14:57.491569 Cost: 0.00028\tAccuracy: 0.71200\n",
      "Epoch 33, CIFAR-10 Batch 1:  2017-03-30 11:15:01.395695 Cost: 0.00029\tAccuracy: 0.70380\n",
      "Epoch 33, CIFAR-10 Batch 2:  2017-03-30 11:15:05.306957 Cost: 0.00077\tAccuracy: 0.71000\n",
      "Epoch 33, CIFAR-10 Batch 3:  2017-03-30 11:15:09.208323 Cost: 0.00016\tAccuracy: 0.70640\n",
      "Epoch 33, CIFAR-10 Batch 4:  2017-03-30 11:15:13.132649 Cost: 0.00010\tAccuracy: 0.69960\n",
      "Epoch 33, CIFAR-10 Batch 5:  2017-03-30 11:15:17.049073 Cost: 0.00012\tAccuracy: 0.70760\n",
      "Epoch 34, CIFAR-10 Batch 1:  2017-03-30 11:15:20.952796 Cost: 0.00009\tAccuracy: 0.71180\n",
      "Epoch 34, CIFAR-10 Batch 2:  2017-03-30 11:15:24.857351 Cost: 0.00231\tAccuracy: 0.70100\n",
      "Epoch 34, CIFAR-10 Batch 3:  2017-03-30 11:15:28.761593 Cost: 0.00016\tAccuracy: 0.71180\n",
      "Epoch 34, CIFAR-10 Batch 4:  2017-03-30 11:15:32.666326 Cost: 0.00028\tAccuracy: 0.69660\n",
      "Epoch 34, CIFAR-10 Batch 5:  2017-03-30 11:15:36.577634 Cost: 0.00015\tAccuracy: 0.70780\n",
      "Epoch 35, CIFAR-10 Batch 1:  2017-03-30 11:15:40.484196 Cost: 0.00226\tAccuracy: 0.71040\n",
      "Epoch 35, CIFAR-10 Batch 2:  2017-03-30 11:15:44.393265 Cost: 0.00021\tAccuracy: 0.70300\n",
      "Epoch 35, CIFAR-10 Batch 3:  2017-03-30 11:15:48.297830 Cost: 0.00003\tAccuracy: 0.70660\n",
      "Epoch 35, CIFAR-10 Batch 4:  2017-03-30 11:15:52.220269 Cost: 0.00062\tAccuracy: 0.68740\n",
      "Epoch 35, CIFAR-10 Batch 5:  2017-03-30 11:15:56.118749 Cost: 0.00033\tAccuracy: 0.70340\n",
      "Epoch 36, CIFAR-10 Batch 1:  2017-03-30 11:16:00.020086 Cost: 0.00014\tAccuracy: 0.70840\n",
      "Epoch 36, CIFAR-10 Batch 2:  2017-03-30 11:16:03.934846 Cost: 0.00013\tAccuracy: 0.70960\n",
      "Epoch 36, CIFAR-10 Batch 3:  2017-03-30 11:16:07.838565 Cost: 0.00008\tAccuracy: 0.69860\n",
      "Epoch 36, CIFAR-10 Batch 4:  2017-03-30 11:16:11.745551 Cost: 0.00010\tAccuracy: 0.70680\n",
      "Epoch 36, CIFAR-10 Batch 5:  2017-03-30 11:16:15.640131 Cost: 0.00011\tAccuracy: 0.71060\n",
      "Epoch 37, CIFAR-10 Batch 1:  2017-03-30 11:16:19.540061 Cost: 0.00011\tAccuracy: 0.70420\n",
      "Epoch 37, CIFAR-10 Batch 2:  2017-03-30 11:16:23.448469 Cost: 0.00033\tAccuracy: 0.70760\n",
      "Epoch 37, CIFAR-10 Batch 3:  2017-03-30 11:16:27.361066 Cost: 0.00003\tAccuracy: 0.69900\n",
      "Epoch 37, CIFAR-10 Batch 4:  2017-03-30 11:16:31.264151 Cost: 0.00006\tAccuracy: 0.70400\n",
      "Epoch 37, CIFAR-10 Batch 5:  2017-03-30 11:16:35.169826 Cost: 0.00009\tAccuracy: 0.70620\n",
      "Epoch 38, CIFAR-10 Batch 1:  2017-03-30 11:16:39.079216 Cost: 0.00006\tAccuracy: 0.71480\n",
      "Epoch 38, CIFAR-10 Batch 2:  2017-03-30 11:16:42.993760 Cost: 0.00010\tAccuracy: 0.71000\n",
      "Epoch 38, CIFAR-10 Batch 3:  2017-03-30 11:16:46.916903 Cost: 0.00017\tAccuracy: 0.70240\n",
      "Epoch 38, CIFAR-10 Batch 4:  2017-03-30 11:16:50.821737 Cost: 0.00028\tAccuracy: 0.70140\n",
      "Epoch 38, CIFAR-10 Batch 5:  2017-03-30 11:16:54.738336 Cost: 0.00057\tAccuracy: 0.71340\n",
      "Epoch 39, CIFAR-10 Batch 1:  2017-03-30 11:16:58.649408 Cost: 0.00063\tAccuracy: 0.71140\n",
      "Epoch 39, CIFAR-10 Batch 2:  2017-03-30 11:17:02.570421 Cost: 0.00012\tAccuracy: 0.70700\n",
      "Epoch 39, CIFAR-10 Batch 3:  2017-03-30 11:17:06.493305 Cost: 0.00007\tAccuracy: 0.71060\n",
      "Epoch 39, CIFAR-10 Batch 4:  2017-03-30 11:17:10.410514 Cost: 0.00023\tAccuracy: 0.70720\n",
      "Epoch 39, CIFAR-10 Batch 5:  2017-03-30 11:17:14.323945 Cost: 0.00069\tAccuracy: 0.70580\n",
      "Epoch 40, CIFAR-10 Batch 1:  2017-03-30 11:17:18.240563 Cost: 0.00037\tAccuracy: 0.70480\n",
      "Epoch 40, CIFAR-10 Batch 2:  2017-03-30 11:17:22.184332 Cost: 0.00005\tAccuracy: 0.71440\n",
      "Epoch 40, CIFAR-10 Batch 3:  2017-03-30 11:17:26.118813 Cost: 0.00003\tAccuracy: 0.71420\n",
      "Epoch 40, CIFAR-10 Batch 4:  2017-03-30 11:17:30.060092 Cost: 0.00021\tAccuracy: 0.70520\n",
      "Epoch 40, CIFAR-10 Batch 5:  2017-03-30 11:17:33.996874 Cost: 0.00037\tAccuracy: 0.71200\n",
      "Epoch 41, CIFAR-10 Batch 1:  2017-03-30 11:17:37.931940 Cost: 0.00002\tAccuracy: 0.71020\n",
      "Epoch 41, CIFAR-10 Batch 2:  2017-03-30 11:17:41.867955 Cost: 0.00004\tAccuracy: 0.71460\n",
      "Epoch 41, CIFAR-10 Batch 3:  2017-03-30 11:17:45.813293 Cost: 0.00004\tAccuracy: 0.70840\n",
      "Epoch 41, CIFAR-10 Batch 4:  2017-03-30 11:17:49.737782 Cost: 0.00002\tAccuracy: 0.70720\n",
      "Epoch 41, CIFAR-10 Batch 5:  2017-03-30 11:17:53.645755 Cost: 0.00005\tAccuracy: 0.71060\n",
      "Epoch 42, CIFAR-10 Batch 1:  2017-03-30 11:17:57.582885 Cost: 0.00045\tAccuracy: 0.70960\n",
      "Epoch 42, CIFAR-10 Batch 2:  2017-03-30 11:18:01.524244 Cost: 0.00003\tAccuracy: 0.70480\n",
      "Epoch 42, CIFAR-10 Batch 3:  2017-03-30 11:18:05.462370 Cost: 0.00001\tAccuracy: 0.70900\n",
      "Epoch 42, CIFAR-10 Batch 4:  2017-03-30 11:18:09.383047 Cost: 0.00002\tAccuracy: 0.71560\n",
      "Epoch 42, CIFAR-10 Batch 5:  2017-03-30 11:18:13.298719 Cost: 0.00003\tAccuracy: 0.72040\n",
      "Epoch 43, CIFAR-10 Batch 1:  2017-03-30 11:18:17.228174 Cost: 0.00010\tAccuracy: 0.70840\n",
      "Epoch 43, CIFAR-10 Batch 2:  2017-03-30 11:18:21.162359 Cost: 0.00026\tAccuracy: 0.70620\n",
      "Epoch 43, CIFAR-10 Batch 3:  2017-03-30 11:18:25.083707 Cost: 0.02547\tAccuracy: 0.70120\n",
      "Epoch 43, CIFAR-10 Batch 4:  2017-03-30 11:18:29.010696 Cost: 0.00022\tAccuracy: 0.70700\n",
      "Epoch 43, CIFAR-10 Batch 5:  2017-03-30 11:18:32.928048 Cost: 0.00006\tAccuracy: 0.71300\n",
      "Epoch 44, CIFAR-10 Batch 1:  2017-03-30 11:18:36.857935 Cost: 0.00009\tAccuracy: 0.71480\n",
      "Epoch 44, CIFAR-10 Batch 2:  2017-03-30 11:18:40.784425 Cost: 0.00002\tAccuracy: 0.71880\n",
      "Epoch 44, CIFAR-10 Batch 3:  2017-03-30 11:18:44.716257 Cost: 0.00011\tAccuracy: 0.71160\n",
      "Epoch 44, CIFAR-10 Batch 4:  2017-03-30 11:18:48.650690 Cost: 0.00008\tAccuracy: 0.71160\n",
      "Epoch 44, CIFAR-10 Batch 5:  2017-03-30 11:18:52.563732 Cost: 0.00007\tAccuracy: 0.71000\n",
      "Epoch 45, CIFAR-10 Batch 1:  2017-03-30 11:18:56.487607 Cost: 0.00014\tAccuracy: 0.71440\n",
      "Epoch 45, CIFAR-10 Batch 2:  2017-03-30 11:19:00.414696 Cost: 0.00002\tAccuracy: 0.71100\n",
      "Epoch 45, CIFAR-10 Batch 3:  2017-03-30 11:19:04.331131 Cost: 0.00022\tAccuracy: 0.70900\n",
      "Epoch 45, CIFAR-10 Batch 4:  2017-03-30 11:19:08.256554 Cost: 0.00005\tAccuracy: 0.70160\n",
      "Epoch 45, CIFAR-10 Batch 5:  2017-03-30 11:19:12.197644 Cost: 0.00009\tAccuracy: 0.71020\n",
      "Epoch 46, CIFAR-10 Batch 1:  2017-03-30 11:19:16.137467 Cost: 0.00042\tAccuracy: 0.71460\n",
      "Epoch 46, CIFAR-10 Batch 2:  2017-03-30 11:19:20.096856 Cost: 0.00048\tAccuracy: 0.70400\n",
      "Epoch 46, CIFAR-10 Batch 3:  2017-03-30 11:19:24.043003 Cost: 0.00007\tAccuracy: 0.70660\n",
      "Epoch 46, CIFAR-10 Batch 4:  2017-03-30 11:19:27.989980 Cost: 0.00001\tAccuracy: 0.70940\n",
      "Epoch 46, CIFAR-10 Batch 5:  2017-03-30 11:19:31.935898 Cost: 0.00039\tAccuracy: 0.70620\n",
      "Epoch 47, CIFAR-10 Batch 1:  2017-03-30 11:19:35.892294 Cost: 0.00008\tAccuracy: 0.71020\n",
      "Epoch 47, CIFAR-10 Batch 2:  2017-03-30 11:19:39.849056 Cost: 0.00006\tAccuracy: 0.70160\n",
      "Epoch 47, CIFAR-10 Batch 3:  2017-03-30 11:19:43.801214 Cost: 0.00012\tAccuracy: 0.70680\n",
      "Epoch 47, CIFAR-10 Batch 4:  2017-03-30 11:19:47.749180 Cost: 0.00005\tAccuracy: 0.71160\n",
      "Epoch 47, CIFAR-10 Batch 5:  2017-03-30 11:19:51.692318 Cost: 0.00125\tAccuracy: 0.70940\n",
      "Epoch 48, CIFAR-10 Batch 1:  2017-03-30 11:19:55.634957 Cost: 0.00064\tAccuracy: 0.71280\n",
      "Epoch 48, CIFAR-10 Batch 2:  2017-03-30 11:19:59.586645 Cost: 0.00003\tAccuracy: 0.71400\n",
      "Epoch 48, CIFAR-10 Batch 3:  2017-03-30 11:20:03.547350 Cost: 0.00005\tAccuracy: 0.70120\n",
      "Epoch 48, CIFAR-10 Batch 4:  2017-03-30 11:20:07.482866 Cost: 0.00002\tAccuracy: 0.70960\n",
      "Epoch 48, CIFAR-10 Batch 5:  2017-03-30 11:20:11.418823 Cost: 0.00007\tAccuracy: 0.70600\n",
      "Epoch 49, CIFAR-10 Batch 1:  2017-03-30 11:20:15.358900 Cost: 0.00011\tAccuracy: 0.71420\n",
      "Epoch 49, CIFAR-10 Batch 2:  2017-03-30 11:20:19.300141 Cost: 0.00001\tAccuracy: 0.71820\n",
      "Epoch 49, CIFAR-10 Batch 3:  2017-03-30 11:20:23.256605 Cost: 0.00005\tAccuracy: 0.70940\n",
      "Epoch 49, CIFAR-10 Batch 4:  2017-03-30 11:20:27.194124 Cost: 0.00005\tAccuracy: 0.70740\n",
      "Epoch 49, CIFAR-10 Batch 5:  2017-03-30 11:20:31.138123 Cost: 0.00020\tAccuracy: 0.70020\n",
      "Epoch 50, CIFAR-10 Batch 1:  2017-03-30 11:20:35.093679 Cost: 0.00010\tAccuracy: 0.70560\n",
      "Epoch 50, CIFAR-10 Batch 2:  2017-03-30 11:20:39.050141 Cost: 0.00012\tAccuracy: 0.70740\n",
      "Epoch 50, CIFAR-10 Batch 3:  2017-03-30 11:20:42.992013 Cost: 0.00002\tAccuracy: 0.70760\n",
      "Epoch 50, CIFAR-10 Batch 4:  2017-03-30 11:20:46.941039 Cost: 0.00004\tAccuracy: 0.69940\n",
      "Epoch 50, CIFAR-10 Batch 5:  2017-03-30 11:20:50.887129 Cost: 0.00028\tAccuracy: 0.71040\n",
      "Epoch 51, CIFAR-10 Batch 1:  2017-03-30 11:20:54.841763 Cost: 0.00012\tAccuracy: 0.71520\n",
      "Epoch 51, CIFAR-10 Batch 2:  2017-03-30 11:20:58.782624 Cost: 0.00001\tAccuracy: 0.70640\n",
      "Epoch 51, CIFAR-10 Batch 3:  2017-03-30 11:21:02.723577 Cost: 0.00001\tAccuracy: 0.71040\n",
      "Epoch 51, CIFAR-10 Batch 4:  2017-03-30 11:21:06.647570 Cost: 0.00010\tAccuracy: 0.69820\n",
      "Epoch 51, CIFAR-10 Batch 5:  2017-03-30 11:21:10.578260 Cost: 0.00003\tAccuracy: 0.71120\n",
      "Epoch 52, CIFAR-10 Batch 1:  2017-03-30 11:21:14.514452 Cost: 0.00036\tAccuracy: 0.70780\n",
      "Epoch 52, CIFAR-10 Batch 2:  2017-03-30 11:21:18.466597 Cost: 0.00004\tAccuracy: 0.70740\n",
      "Epoch 52, CIFAR-10 Batch 3:  2017-03-30 11:21:22.419599 Cost: 0.00003\tAccuracy: 0.70780\n",
      "Epoch 52, CIFAR-10 Batch 4:  2017-03-30 11:21:26.352639 Cost: 0.00004\tAccuracy: 0.71160\n",
      "Epoch 52, CIFAR-10 Batch 5:  2017-03-30 11:21:30.266311 Cost: 0.00001\tAccuracy: 0.71480\n",
      "Epoch 53, CIFAR-10 Batch 1:  2017-03-30 11:21:34.203056 Cost: 0.00011\tAccuracy: 0.71140\n",
      "Epoch 53, CIFAR-10 Batch 2:  2017-03-30 11:21:38.150008 Cost: 0.00009\tAccuracy: 0.70020\n",
      "Epoch 53, CIFAR-10 Batch 3:  2017-03-30 11:21:42.082303 Cost: 0.00005\tAccuracy: 0.70780\n",
      "Epoch 53, CIFAR-10 Batch 4:  2017-03-30 11:21:46.015878 Cost: 0.00005\tAccuracy: 0.71360\n",
      "Epoch 53, CIFAR-10 Batch 5:  2017-03-30 11:21:49.954361 Cost: 0.00016\tAccuracy: 0.70720\n",
      "Epoch 54, CIFAR-10 Batch 1:  2017-03-30 11:21:53.884490 Cost: 0.00020\tAccuracy: 0.71100\n",
      "Epoch 54, CIFAR-10 Batch 2:  2017-03-30 11:21:57.826164 Cost: 0.00001\tAccuracy: 0.70500\n",
      "Epoch 54, CIFAR-10 Batch 3:  2017-03-30 11:22:01.771817 Cost: 0.00000\tAccuracy: 0.70720\n",
      "Epoch 54, CIFAR-10 Batch 4:  2017-03-30 11:22:05.706544 Cost: 0.00001\tAccuracy: 0.71420\n",
      "Epoch 54, CIFAR-10 Batch 5:  2017-03-30 11:22:09.635960 Cost: 0.00004\tAccuracy: 0.70900\n",
      "Epoch 55, CIFAR-10 Batch 1:  2017-03-30 11:22:13.578874 Cost: 0.00004\tAccuracy: 0.71320\n",
      "Epoch 55, CIFAR-10 Batch 2:  2017-03-30 11:22:17.523460 Cost: 0.00003\tAccuracy: 0.71140\n",
      "Epoch 55, CIFAR-10 Batch 3:  2017-03-30 11:22:21.470870 Cost: 0.00004\tAccuracy: 0.70800\n",
      "Epoch 55, CIFAR-10 Batch 4:  2017-03-30 11:22:25.409878 Cost: 0.00002\tAccuracy: 0.71120\n",
      "Epoch 55, CIFAR-10 Batch 5:  2017-03-30 11:22:29.355231 Cost: 0.00036\tAccuracy: 0.70780\n",
      "Epoch 56, CIFAR-10 Batch 1:  2017-03-30 11:22:33.297531 Cost: 0.00002\tAccuracy: 0.72100\n",
      "Epoch 56, CIFAR-10 Batch 2:  2017-03-30 11:22:37.227114 Cost: 0.00002\tAccuracy: 0.70500\n",
      "Epoch 56, CIFAR-10 Batch 3:  2017-03-30 11:22:41.170894 Cost: 0.00000\tAccuracy: 0.70800\n",
      "Epoch 56, CIFAR-10 Batch 4:  2017-03-30 11:22:45.121108 Cost: 0.00001\tAccuracy: 0.71320\n",
      "Epoch 56, CIFAR-10 Batch 5:  2017-03-30 11:22:49.056937 Cost: 0.00003\tAccuracy: 0.70820\n",
      "Epoch 57, CIFAR-10 Batch 1:  2017-03-30 11:22:52.994124 Cost: 0.00005\tAccuracy: 0.71420\n",
      "Epoch 57, CIFAR-10 Batch 2:  2017-03-30 11:22:56.918327 Cost: 0.00002\tAccuracy: 0.70460\n",
      "Epoch 57, CIFAR-10 Batch 3:  2017-03-30 11:23:00.834090 Cost: 0.00000\tAccuracy: 0.71600\n",
      "Epoch 57, CIFAR-10 Batch 4:  2017-03-30 11:23:04.759810 Cost: 0.00002\tAccuracy: 0.71180\n",
      "Epoch 57, CIFAR-10 Batch 5:  2017-03-30 11:23:08.673187 Cost: 0.00002\tAccuracy: 0.70820\n",
      "Epoch 58, CIFAR-10 Batch 1:  2017-03-30 11:23:12.600593 Cost: 0.00009\tAccuracy: 0.70940\n",
      "Epoch 58, CIFAR-10 Batch 2:  2017-03-30 11:23:16.502851 Cost: 0.00002\tAccuracy: 0.71020\n",
      "Epoch 58, CIFAR-10 Batch 3:  2017-03-30 11:23:20.409844 Cost: 0.00001\tAccuracy: 0.71420\n",
      "Epoch 58, CIFAR-10 Batch 4:  2017-03-30 11:23:24.311147 Cost: 0.00013\tAccuracy: 0.71180\n",
      "Epoch 58, CIFAR-10 Batch 5:  2017-03-30 11:23:28.211679 Cost: 0.00000\tAccuracy: 0.71320\n",
      "Epoch 59, CIFAR-10 Batch 1:  2017-03-30 11:23:32.126601 Cost: 0.00073\tAccuracy: 0.70400\n",
      "Epoch 59, CIFAR-10 Batch 2:  2017-03-30 11:23:36.062730 Cost: 0.00004\tAccuracy: 0.71100\n",
      "Epoch 59, CIFAR-10 Batch 3:  2017-03-30 11:23:39.992668 Cost: 0.00002\tAccuracy: 0.71140\n",
      "Epoch 59, CIFAR-10 Batch 4:  2017-03-30 11:23:43.920785 Cost: 0.00002\tAccuracy: 0.71680\n",
      "Epoch 59, CIFAR-10 Batch 5:  2017-03-30 11:23:47.850749 Cost: 0.00005\tAccuracy: 0.70520\n",
      "Epoch 60, CIFAR-10 Batch 1:  2017-03-30 11:23:51.790386 Cost: 0.00001\tAccuracy: 0.70900\n",
      "Epoch 60, CIFAR-10 Batch 2:  2017-03-30 11:23:55.723645 Cost: 0.00000\tAccuracy: 0.71820\n",
      "Epoch 60, CIFAR-10 Batch 3:  2017-03-30 11:23:59.643046 Cost: 0.00001\tAccuracy: 0.71260\n",
      "Epoch 60, CIFAR-10 Batch 4:  2017-03-30 11:24:03.561151 Cost: 0.00008\tAccuracy: 0.71120\n",
      "Epoch 60, CIFAR-10 Batch 5:  2017-03-30 11:24:07.493585 Cost: 0.00001\tAccuracy: 0.71520\n",
      "Epoch 61, CIFAR-10 Batch 1:  2017-03-30 11:24:11.415339 Cost: 0.00002\tAccuracy: 0.71160\n",
      "Epoch 61, CIFAR-10 Batch 2:  2017-03-30 11:24:15.344354 Cost: 0.00002\tAccuracy: 0.70980\n",
      "Epoch 61, CIFAR-10 Batch 3:  2017-03-30 11:24:19.272644 Cost: 0.00000\tAccuracy: 0.70180\n",
      "Epoch 61, CIFAR-10 Batch 4:  2017-03-30 11:24:23.191505 Cost: 0.00005\tAccuracy: 0.71060\n",
      "Epoch 61, CIFAR-10 Batch 5:  2017-03-30 11:24:27.115033 Cost: 0.00004\tAccuracy: 0.70840\n",
      "Epoch 62, CIFAR-10 Batch 1:  2017-03-30 11:24:31.051710 Cost: 0.00000\tAccuracy: 0.70680\n",
      "Epoch 62, CIFAR-10 Batch 2:  2017-03-30 11:24:34.985356 Cost: 0.00025\tAccuracy: 0.70420\n",
      "Epoch 62, CIFAR-10 Batch 3:  2017-03-30 11:24:38.919774 Cost: 0.00001\tAccuracy: 0.70140\n",
      "Epoch 62, CIFAR-10 Batch 4:  2017-03-30 11:24:42.840159 Cost: 0.00011\tAccuracy: 0.70800\n",
      "Epoch 62, CIFAR-10 Batch 5:  2017-03-30 11:24:46.776957 Cost: 0.00031\tAccuracy: 0.70660\n",
      "Epoch 63, CIFAR-10 Batch 1:  2017-03-30 11:24:50.734247 Cost: 0.00000\tAccuracy: 0.70940\n",
      "Epoch 63, CIFAR-10 Batch 2:  2017-03-30 11:24:54.678910 Cost: 0.00011\tAccuracy: 0.70220\n",
      "Epoch 63, CIFAR-10 Batch 3:  2017-03-30 11:24:58.599557 Cost: 0.00001\tAccuracy: 0.70660\n",
      "Epoch 63, CIFAR-10 Batch 4:  2017-03-30 11:25:02.521190 Cost: 0.00001\tAccuracy: 0.70240\n",
      "Epoch 63, CIFAR-10 Batch 5:  2017-03-30 11:25:06.444691 Cost: 0.00004\tAccuracy: 0.71100\n",
      "Epoch 64, CIFAR-10 Batch 1:  2017-03-30 11:25:10.368820 Cost: 0.00018\tAccuracy: 0.70340\n",
      "Epoch 64, CIFAR-10 Batch 2:  2017-03-30 11:25:14.292233 Cost: 0.00004\tAccuracy: 0.70960\n",
      "Epoch 64, CIFAR-10 Batch 3:  2017-03-30 11:25:18.229434 Cost: 0.00000\tAccuracy: 0.71400\n",
      "Epoch 64, CIFAR-10 Batch 4:  2017-03-30 11:25:22.158421 Cost: 0.00002\tAccuracy: 0.70620\n",
      "Epoch 64, CIFAR-10 Batch 5:  2017-03-30 11:25:26.083749 Cost: 0.00003\tAccuracy: 0.71260\n",
      "Epoch 65, CIFAR-10 Batch 1:  2017-03-30 11:25:30.031402 Cost: 0.00013\tAccuracy: 0.70960\n",
      "Epoch 65, CIFAR-10 Batch 2:  2017-03-30 11:25:33.982441 Cost: 0.00005\tAccuracy: 0.70880\n",
      "Epoch 65, CIFAR-10 Batch 3:  2017-03-30 11:25:37.925753 Cost: 0.00001\tAccuracy: 0.70460\n",
      "Epoch 65, CIFAR-10 Batch 4:  2017-03-30 11:25:41.847588 Cost: 0.00001\tAccuracy: 0.71660\n",
      "Epoch 65, CIFAR-10 Batch 5:  2017-03-30 11:25:45.769551 Cost: 0.00001\tAccuracy: 0.70940\n",
      "Epoch 66, CIFAR-10 Batch 1:  2017-03-30 11:25:49.700406 Cost: 0.00003\tAccuracy: 0.70980\n",
      "Epoch 66, CIFAR-10 Batch 2:  2017-03-30 11:25:53.610258 Cost: 0.00006\tAccuracy: 0.71080\n",
      "Epoch 66, CIFAR-10 Batch 3:  2017-03-30 11:25:57.520726 Cost: 0.00003\tAccuracy: 0.70200\n",
      "Epoch 66, CIFAR-10 Batch 4:  2017-03-30 11:26:01.444836 Cost: 0.00003\tAccuracy: 0.71480\n",
      "Epoch 66, CIFAR-10 Batch 5:  2017-03-30 11:26:05.370908 Cost: 0.00001\tAccuracy: 0.70900\n",
      "Epoch 67, CIFAR-10 Batch 1:  2017-03-30 11:26:09.319387 Cost: 0.00002\tAccuracy: 0.71400\n",
      "Epoch 67, CIFAR-10 Batch 2:  2017-03-30 11:26:13.265254 Cost: 0.00002\tAccuracy: 0.70640\n",
      "Epoch 67, CIFAR-10 Batch 3:  2017-03-30 11:26:17.221059 Cost: 0.00001\tAccuracy: 0.70560\n",
      "Epoch 67, CIFAR-10 Batch 4:  2017-03-30 11:26:21.163604 Cost: 0.00010\tAccuracy: 0.70600\n",
      "Epoch 67, CIFAR-10 Batch 5:  2017-03-30 11:26:25.094605 Cost: 0.00003\tAccuracy: 0.71420\n",
      "Epoch 68, CIFAR-10 Batch 1:  2017-03-30 11:26:29.024861 Cost: 0.00001\tAccuracy: 0.71140\n",
      "Epoch 68, CIFAR-10 Batch 2:  2017-03-30 11:26:32.949340 Cost: 0.00007\tAccuracy: 0.70480\n",
      "Epoch 68, CIFAR-10 Batch 3:  2017-03-30 11:26:36.879364 Cost: 0.00003\tAccuracy: 0.70600\n",
      "Epoch 68, CIFAR-10 Batch 4:  2017-03-30 11:26:40.796346 Cost: 0.00011\tAccuracy: 0.71040\n",
      "Epoch 68, CIFAR-10 Batch 5:  2017-03-30 11:26:44.700840 Cost: 0.00005\tAccuracy: 0.71060\n",
      "Epoch 69, CIFAR-10 Batch 1:  2017-03-30 11:26:48.634766 Cost: 0.00007\tAccuracy: 0.71960\n",
      "Epoch 69, CIFAR-10 Batch 2:  2017-03-30 11:26:52.554688 Cost: 0.00001\tAccuracy: 0.71820\n",
      "Epoch 69, CIFAR-10 Batch 3:  2017-03-30 11:26:56.460370 Cost: 0.00002\tAccuracy: 0.70700\n",
      "Epoch 69, CIFAR-10 Batch 4:  2017-03-30 11:27:00.398350 Cost: 0.00006\tAccuracy: 0.71160\n",
      "Epoch 69, CIFAR-10 Batch 5:  2017-03-30 11:27:04.343984 Cost: 0.00031\tAccuracy: 0.71080\n",
      "Epoch 70, CIFAR-10 Batch 1:  2017-03-30 11:27:08.278418 Cost: 0.00021\tAccuracy: 0.71860\n",
      "Epoch 70, CIFAR-10 Batch 2:  2017-03-30 11:27:12.209512 Cost: 0.00047\tAccuracy: 0.70600\n",
      "Epoch 70, CIFAR-10 Batch 3:  2017-03-30 11:27:16.135529 Cost: 0.00001\tAccuracy: 0.70800\n",
      "Epoch 70, CIFAR-10 Batch 4:  2017-03-30 11:27:20.066135 Cost: 0.00000\tAccuracy: 0.71020\n",
      "Epoch 70, CIFAR-10 Batch 5:  2017-03-30 11:27:23.994147 Cost: 0.00003\tAccuracy: 0.70980\n",
      "Epoch 71, CIFAR-10 Batch 1:  2017-03-30 11:27:27.922377 Cost: 0.00005\tAccuracy: 0.71560\n",
      "Epoch 71, CIFAR-10 Batch 2:  2017-03-30 11:27:31.855758 Cost: 0.00001\tAccuracy: 0.70920\n",
      "Epoch 71, CIFAR-10 Batch 3:  2017-03-30 11:27:35.786616 Cost: 0.00001\tAccuracy: 0.71240\n",
      "Epoch 71, CIFAR-10 Batch 4:  2017-03-30 11:27:39.716176 Cost: 0.00002\tAccuracy: 0.70900\n",
      "Epoch 71, CIFAR-10 Batch 5:  2017-03-30 11:27:43.658815 Cost: 0.00006\tAccuracy: 0.71080\n",
      "Epoch 72, CIFAR-10 Batch 1:  2017-03-30 11:27:47.606912 Cost: 0.00002\tAccuracy: 0.71160\n",
      "Epoch 72, CIFAR-10 Batch 2:  2017-03-30 11:27:51.556558 Cost: 0.00012\tAccuracy: 0.70740\n",
      "Epoch 72, CIFAR-10 Batch 3:  2017-03-30 11:27:55.502842 Cost: 0.00000\tAccuracy: 0.70540\n",
      "Epoch 72, CIFAR-10 Batch 4:  2017-03-30 11:27:59.415493 Cost: 0.00002\tAccuracy: 0.70760\n",
      "Epoch 72, CIFAR-10 Batch 5:  2017-03-30 11:28:03.332061 Cost: 0.00005\tAccuracy: 0.70300\n",
      "Epoch 73, CIFAR-10 Batch 1:  2017-03-30 11:28:07.244113 Cost: 0.00007\tAccuracy: 0.71500\n",
      "Epoch 73, CIFAR-10 Batch 2:  2017-03-30 11:28:11.150155 Cost: 0.00002\tAccuracy: 0.71080\n",
      "Epoch 73, CIFAR-10 Batch 3:  2017-03-30 11:28:15.099615 Cost: 0.00000\tAccuracy: 0.71300\n",
      "Epoch 73, CIFAR-10 Batch 4:  2017-03-30 11:28:19.043978 Cost: 0.00002\tAccuracy: 0.72080\n",
      "Epoch 73, CIFAR-10 Batch 5:  2017-03-30 11:28:22.971128 Cost: 0.00003\tAccuracy: 0.70620\n",
      "Epoch 74, CIFAR-10 Batch 1:  2017-03-30 11:28:26.924657 Cost: 0.00002\tAccuracy: 0.71060\n",
      "Epoch 74, CIFAR-10 Batch 2:  2017-03-30 11:28:30.869717 Cost: 0.00075\tAccuracy: 0.71220\n",
      "Epoch 74, CIFAR-10 Batch 3:  2017-03-30 11:28:34.801827 Cost: 0.00001\tAccuracy: 0.71340\n",
      "Epoch 74, CIFAR-10 Batch 4:  2017-03-30 11:28:38.737854 Cost: 0.00001\tAccuracy: 0.70660\n",
      "Epoch 74, CIFAR-10 Batch 5:  2017-03-30 11:28:42.675728 Cost: 0.00002\tAccuracy: 0.71320\n",
      "Epoch 75, CIFAR-10 Batch 1:  2017-03-30 11:28:46.610810 Cost: 0.00009\tAccuracy: 0.71240\n",
      "Epoch 75, CIFAR-10 Batch 2:  2017-03-30 11:28:50.533976 Cost: 0.00005\tAccuracy: 0.71340\n",
      "Epoch 75, CIFAR-10 Batch 3:  2017-03-30 11:28:54.475953 Cost: 0.00010\tAccuracy: 0.70840\n",
      "Epoch 75, CIFAR-10 Batch 4:  2017-03-30 11:28:58.395350 Cost: 0.00001\tAccuracy: 0.70900\n",
      "Epoch 75, CIFAR-10 Batch 5:  2017-03-30 11:29:02.331758 Cost: 0.00008\tAccuracy: 0.71060\n",
      "Epoch 76, CIFAR-10 Batch 1:  2017-03-30 11:29:06.262421 Cost: 0.00001\tAccuracy: 0.71240\n",
      "Epoch 76, CIFAR-10 Batch 2:  2017-03-30 11:29:10.187598 Cost: 0.00041\tAccuracy: 0.70740\n",
      "Epoch 76, CIFAR-10 Batch 3:  2017-03-30 11:29:14.120195 Cost: 0.00001\tAccuracy: 0.71260\n",
      "Epoch 76, CIFAR-10 Batch 4:  2017-03-30 11:29:18.046161 Cost: 0.00002\tAccuracy: 0.71720\n",
      "Epoch 76, CIFAR-10 Batch 5:  2017-03-30 11:29:21.947659 Cost: 0.00008\tAccuracy: 0.71060\n",
      "Epoch 77, CIFAR-10 Batch 1:  2017-03-30 11:29:25.858604 Cost: 0.00001\tAccuracy: 0.71620\n",
      "Epoch 77, CIFAR-10 Batch 2:  2017-03-30 11:29:29.759123 Cost: 0.00004\tAccuracy: 0.71760\n",
      "Epoch 77, CIFAR-10 Batch 3:  2017-03-30 11:29:33.669339 Cost: 0.00001\tAccuracy: 0.70960\n",
      "Epoch 77, CIFAR-10 Batch 4:  2017-03-30 11:29:37.573728 Cost: 0.00001\tAccuracy: 0.71820\n",
      "Epoch 77, CIFAR-10 Batch 5:  2017-03-30 11:29:41.481111 Cost: 0.00102\tAccuracy: 0.71480\n",
      "Epoch 78, CIFAR-10 Batch 1:  2017-03-30 11:29:45.385636 Cost: 0.00025\tAccuracy: 0.70780\n",
      "Epoch 78, CIFAR-10 Batch 2:  2017-03-30 11:29:49.290026 Cost: 0.00007\tAccuracy: 0.71100\n",
      "Epoch 78, CIFAR-10 Batch 3:  2017-03-30 11:29:53.193600 Cost: 0.00000\tAccuracy: 0.71580\n",
      "Epoch 78, CIFAR-10 Batch 4:  2017-03-30 11:29:57.116158 Cost: 0.00001\tAccuracy: 0.71020\n",
      "Epoch 78, CIFAR-10 Batch 5:  2017-03-30 11:30:01.049884 Cost: 0.00005\tAccuracy: 0.70980\n",
      "Epoch 79, CIFAR-10 Batch 1:  2017-03-30 11:30:04.989803 Cost: 0.00001\tAccuracy: 0.71620\n",
      "Epoch 79, CIFAR-10 Batch 2:  2017-03-30 11:30:08.929758 Cost: 0.00001\tAccuracy: 0.71220\n",
      "Epoch 79, CIFAR-10 Batch 3:  2017-03-30 11:30:12.836570 Cost: 0.00001\tAccuracy: 0.70520\n",
      "Epoch 79, CIFAR-10 Batch 4:  2017-03-30 11:30:16.732302 Cost: 0.00001\tAccuracy: 0.70840\n",
      "Epoch 79, CIFAR-10 Batch 5:  2017-03-30 11:30:20.634752 Cost: 0.00006\tAccuracy: 0.71000\n",
      "Epoch 80, CIFAR-10 Batch 1:  2017-03-30 11:30:24.536401 Cost: 0.00002\tAccuracy: 0.70700\n",
      "Epoch 80, CIFAR-10 Batch 2:  2017-03-30 11:30:28.439239 Cost: 0.00010\tAccuracy: 0.70960\n",
      "Epoch 80, CIFAR-10 Batch 3:  2017-03-30 11:30:32.334975 Cost: 0.00001\tAccuracy: 0.71420\n",
      "Epoch 80, CIFAR-10 Batch 4:  2017-03-30 11:30:36.239068 Cost: 0.00000\tAccuracy: 0.71620\n",
      "Epoch 80, CIFAR-10 Batch 5:  2017-03-30 11:30:40.144215 Cost: 0.00002\tAccuracy: 0.70900\n",
      "Epoch 81, CIFAR-10 Batch 1:  2017-03-30 11:30:44.048018 Cost: 0.00006\tAccuracy: 0.70940\n",
      "Epoch 81, CIFAR-10 Batch 2:  2017-03-30 11:30:47.959880 Cost: 0.00012\tAccuracy: 0.70960\n",
      "Epoch 81, CIFAR-10 Batch 3:  2017-03-30 11:30:51.863836 Cost: 0.00003\tAccuracy: 0.70780\n",
      "Epoch 81, CIFAR-10 Batch 4:  2017-03-30 11:30:55.762557 Cost: 0.00001\tAccuracy: 0.72140\n",
      "Epoch 81, CIFAR-10 Batch 5:  2017-03-30 11:30:59.660997 Cost: 0.00003\tAccuracy: 0.71500\n",
      "Epoch 82, CIFAR-10 Batch 1:  2017-03-30 11:31:03.573909 Cost: 0.00001\tAccuracy: 0.71860\n",
      "Epoch 82, CIFAR-10 Batch 2:  2017-03-30 11:31:07.483035 Cost: 0.00001\tAccuracy: 0.71800\n",
      "Epoch 82, CIFAR-10 Batch 3:  2017-03-30 11:31:11.389772 Cost: 0.00015\tAccuracy: 0.71520\n",
      "Epoch 82, CIFAR-10 Batch 4:  2017-03-30 11:31:15.290292 Cost: 0.00000\tAccuracy: 0.71120\n",
      "Epoch 82, CIFAR-10 Batch 5:  2017-03-30 11:31:19.187463 Cost: 0.00001\tAccuracy: 0.72120\n",
      "Epoch 83, CIFAR-10 Batch 1:  2017-03-30 11:31:23.089094 Cost: 0.00002\tAccuracy: 0.71340\n",
      "Epoch 83, CIFAR-10 Batch 2:  2017-03-30 11:31:26.991580 Cost: 0.00001\tAccuracy: 0.70900\n",
      "Epoch 83, CIFAR-10 Batch 3:  2017-03-30 11:31:30.894340 Cost: 0.00002\tAccuracy: 0.71320\n",
      "Epoch 83, CIFAR-10 Batch 4:  2017-03-30 11:31:34.791185 Cost: 0.00002\tAccuracy: 0.71760\n",
      "Epoch 83, CIFAR-10 Batch 5:  2017-03-30 11:31:38.690503 Cost: 0.00004\tAccuracy: 0.71260\n",
      "Epoch 84, CIFAR-10 Batch 1:  2017-03-30 11:31:42.602694 Cost: 0.00001\tAccuracy: 0.70180\n",
      "Epoch 84, CIFAR-10 Batch 2:  2017-03-30 11:31:46.538947 Cost: 0.00010\tAccuracy: 0.70480\n",
      "Epoch 84, CIFAR-10 Batch 3:  2017-03-30 11:31:50.447098 Cost: 0.00013\tAccuracy: 0.71280\n",
      "Epoch 84, CIFAR-10 Batch 4:  2017-03-30 11:31:54.346074 Cost: 0.00001\tAccuracy: 0.71580\n",
      "Epoch 84, CIFAR-10 Batch 5:  2017-03-30 11:31:58.244330 Cost: 0.00000\tAccuracy: 0.72180\n",
      "Epoch 85, CIFAR-10 Batch 1:  2017-03-30 11:32:02.153656 Cost: 0.00001\tAccuracy: 0.72320\n",
      "Epoch 85, CIFAR-10 Batch 2:  2017-03-30 11:32:06.059012 Cost: 0.00008\tAccuracy: 0.71200\n",
      "Epoch 85, CIFAR-10 Batch 3:  2017-03-30 11:32:09.963936 Cost: 0.00127\tAccuracy: 0.70720\n",
      "Epoch 85, CIFAR-10 Batch 4:  2017-03-30 11:32:13.865129 Cost: 0.00037\tAccuracy: 0.71500\n",
      "Epoch 85, CIFAR-10 Batch 5:  2017-03-30 11:32:17.761900 Cost: 0.00002\tAccuracy: 0.71300\n",
      "Epoch 86, CIFAR-10 Batch 1:  2017-03-30 11:32:21.664537 Cost: 0.00001\tAccuracy: 0.71460\n",
      "Epoch 86, CIFAR-10 Batch 2:  2017-03-30 11:32:25.567718 Cost: 0.00013\tAccuracy: 0.71140\n",
      "Epoch 86, CIFAR-10 Batch 3:  2017-03-30 11:32:29.467524 Cost: 0.00000\tAccuracy: 0.71080\n",
      "Epoch 86, CIFAR-10 Batch 4:  2017-03-30 11:32:33.371928 Cost: 0.00005\tAccuracy: 0.71500\n",
      "Epoch 86, CIFAR-10 Batch 5:  2017-03-30 11:32:37.271110 Cost: 0.00004\tAccuracy: 0.70920\n",
      "Epoch 87, CIFAR-10 Batch 1:  2017-03-30 11:32:41.174563 Cost: 0.00012\tAccuracy: 0.71320\n",
      "Epoch 87, CIFAR-10 Batch 2:  2017-03-30 11:32:45.073121 Cost: 0.00010\tAccuracy: 0.70360\n",
      "Epoch 87, CIFAR-10 Batch 3:  2017-03-30 11:32:48.980025 Cost: 0.00001\tAccuracy: 0.70860\n",
      "Epoch 87, CIFAR-10 Batch 4:  2017-03-30 11:32:52.878970 Cost: 0.00006\tAccuracy: 0.70660\n",
      "Epoch 87, CIFAR-10 Batch 5:  2017-03-30 11:32:56.782961 Cost: 0.00004\tAccuracy: 0.70400\n",
      "Epoch 88, CIFAR-10 Batch 1:  2017-03-30 11:33:00.684079 Cost: 0.00002\tAccuracy: 0.70600\n",
      "Epoch 88, CIFAR-10 Batch 2:  2017-03-30 11:33:04.592820 Cost: 0.00004\tAccuracy: 0.70600\n",
      "Epoch 88, CIFAR-10 Batch 3:  2017-03-30 11:33:08.510140 Cost: 0.00000\tAccuracy: 0.70700\n",
      "Epoch 88, CIFAR-10 Batch 4:  2017-03-30 11:33:12.420603 Cost: 0.00002\tAccuracy: 0.71200\n",
      "Epoch 88, CIFAR-10 Batch 5:  2017-03-30 11:33:16.325391 Cost: 0.00000\tAccuracy: 0.71420\n",
      "Epoch 89, CIFAR-10 Batch 1:  2017-03-30 11:33:20.227538 Cost: 0.00000\tAccuracy: 0.71660\n",
      "Epoch 89, CIFAR-10 Batch 2:  2017-03-30 11:33:24.128978 Cost: 0.00045\tAccuracy: 0.70700\n",
      "Epoch 89, CIFAR-10 Batch 3:  2017-03-30 11:33:28.032332 Cost: 0.00000\tAccuracy: 0.71160\n",
      "Epoch 89, CIFAR-10 Batch 4:  2017-03-30 11:33:31.929685 Cost: 0.00007\tAccuracy: 0.71240\n",
      "Epoch 89, CIFAR-10 Batch 5:  2017-03-30 11:33:35.823899 Cost: 0.00001\tAccuracy: 0.71360\n",
      "Epoch 90, CIFAR-10 Batch 1:  2017-03-30 11:33:39.727349 Cost: 0.00000\tAccuracy: 0.71640\n",
      "Epoch 90, CIFAR-10 Batch 2:  2017-03-30 11:33:43.637570 Cost: 0.00017\tAccuracy: 0.70780\n",
      "Epoch 90, CIFAR-10 Batch 3:  2017-03-30 11:33:47.540735 Cost: 0.00000\tAccuracy: 0.71820\n",
      "Epoch 90, CIFAR-10 Batch 4:  2017-03-30 11:33:51.439879 Cost: 0.00002\tAccuracy: 0.71580\n",
      "Epoch 90, CIFAR-10 Batch 5:  2017-03-30 11:33:55.335688 Cost: 0.00000\tAccuracy: 0.71140\n",
      "Epoch 91, CIFAR-10 Batch 1:  2017-03-30 11:33:59.239923 Cost: 0.00001\tAccuracy: 0.72200\n",
      "Epoch 91, CIFAR-10 Batch 2:  2017-03-30 11:34:03.145928 Cost: 0.00005\tAccuracy: 0.71460\n",
      "Epoch 91, CIFAR-10 Batch 3:  2017-03-30 11:34:07.053799 Cost: 0.00001\tAccuracy: 0.71540\n",
      "Epoch 91, CIFAR-10 Batch 4:  2017-03-30 11:34:10.954665 Cost: 0.00001\tAccuracy: 0.70900\n",
      "Epoch 91, CIFAR-10 Batch 5:  2017-03-30 11:34:14.851660 Cost: 0.00089\tAccuracy: 0.71680\n",
      "Epoch 92, CIFAR-10 Batch 1:  2017-03-30 11:34:18.752839 Cost: 0.00002\tAccuracy: 0.71360\n",
      "Epoch 92, CIFAR-10 Batch 2:  2017-03-30 11:34:22.653181 Cost: 0.00008\tAccuracy: 0.70680\n",
      "Epoch 92, CIFAR-10 Batch 3:  2017-03-30 11:34:26.555312 Cost: 0.00001\tAccuracy: 0.71220\n",
      "Epoch 92, CIFAR-10 Batch 4:  2017-03-30 11:34:30.457345 Cost: 0.00001\tAccuracy: 0.71860\n",
      "Epoch 92, CIFAR-10 Batch 5:  2017-03-30 11:34:34.353066 Cost: 0.00001\tAccuracy: 0.71320\n",
      "Epoch 93, CIFAR-10 Batch 1:  2017-03-30 11:34:38.254441 Cost: 0.00002\tAccuracy: 0.71920\n",
      "Epoch 93, CIFAR-10 Batch 2:  2017-03-30 11:34:42.152534 Cost: 0.00002\tAccuracy: 0.71140\n",
      "Epoch 93, CIFAR-10 Batch 3:  2017-03-30 11:34:46.052670 Cost: 0.00001\tAccuracy: 0.70360\n",
      "Epoch 93, CIFAR-10 Batch 4:  2017-03-30 11:34:49.952144 Cost: 0.00003\tAccuracy: 0.71600\n",
      "Epoch 93, CIFAR-10 Batch 5:  2017-03-30 11:34:53.849137 Cost: 0.00006\tAccuracy: 0.72360\n",
      "Epoch 94, CIFAR-10 Batch 1:  2017-03-30 11:34:57.752842 Cost: 0.00001\tAccuracy: 0.72160\n",
      "Epoch 94, CIFAR-10 Batch 2:  2017-03-30 11:35:01.656155 Cost: 0.00010\tAccuracy: 0.71440\n",
      "Epoch 94, CIFAR-10 Batch 3:  2017-03-30 11:35:05.564902 Cost: 0.00000\tAccuracy: 0.71620\n",
      "Epoch 94, CIFAR-10 Batch 4:  2017-03-30 11:35:09.463203 Cost: 0.00001\tAccuracy: 0.71260\n",
      "Epoch 94, CIFAR-10 Batch 5:  2017-03-30 11:35:13.384042 Cost: 0.00003\tAccuracy: 0.71640\n",
      "Epoch 95, CIFAR-10 Batch 1:  2017-03-30 11:35:17.316550 Cost: 0.00007\tAccuracy: 0.71640\n",
      "Epoch 95, CIFAR-10 Batch 2:  2017-03-30 11:35:21.247409 Cost: 0.00002\tAccuracy: 0.71560\n",
      "Epoch 95, CIFAR-10 Batch 3:  2017-03-30 11:35:25.160528 Cost: 0.00000\tAccuracy: 0.71120\n",
      "Epoch 95, CIFAR-10 Batch 4:  2017-03-30 11:35:29.060739 Cost: 0.00003\tAccuracy: 0.71660\n",
      "Epoch 95, CIFAR-10 Batch 5:  2017-03-30 11:35:32.963009 Cost: 0.00007\tAccuracy: 0.71360\n",
      "Epoch 96, CIFAR-10 Batch 1:  2017-03-30 11:35:36.868600 Cost: 0.00001\tAccuracy: 0.71860\n",
      "Epoch 96, CIFAR-10 Batch 2:  2017-03-30 11:35:40.775357 Cost: 0.00002\tAccuracy: 0.72180\n",
      "Epoch 96, CIFAR-10 Batch 3:  2017-03-30 11:35:44.676156 Cost: 0.00000\tAccuracy: 0.71620\n",
      "Epoch 96, CIFAR-10 Batch 4:  2017-03-30 11:35:48.574916 Cost: 0.00000\tAccuracy: 0.71820\n",
      "Epoch 96, CIFAR-10 Batch 5:  2017-03-30 11:35:52.470289 Cost: 0.00001\tAccuracy: 0.71960\n",
      "Epoch 97, CIFAR-10 Batch 1:  2017-03-30 11:35:56.370436 Cost: 0.00004\tAccuracy: 0.71300\n",
      "Epoch 97, CIFAR-10 Batch 2:  2017-03-30 11:36:00.269205 Cost: 0.00078\tAccuracy: 0.71600\n",
      "Epoch 97, CIFAR-10 Batch 3:  2017-03-30 11:36:04.175266 Cost: 0.00000\tAccuracy: 0.70600\n",
      "Epoch 97, CIFAR-10 Batch 4:  2017-03-30 11:36:08.076513 Cost: 0.00001\tAccuracy: 0.71460\n",
      "Epoch 97, CIFAR-10 Batch 5:  2017-03-30 11:36:11.974735 Cost: 0.00069\tAccuracy: 0.71540\n",
      "Epoch 98, CIFAR-10 Batch 1:  2017-03-30 11:36:15.875772 Cost: 0.00000\tAccuracy: 0.71340\n",
      "Epoch 98, CIFAR-10 Batch 2:  2017-03-30 11:36:19.778439 Cost: 0.00007\tAccuracy: 0.71780\n",
      "Epoch 98, CIFAR-10 Batch 3:  2017-03-30 11:36:23.676787 Cost: 0.00000\tAccuracy: 0.71520\n",
      "Epoch 98, CIFAR-10 Batch 4:  2017-03-30 11:36:27.578876 Cost: 0.00001\tAccuracy: 0.71600\n",
      "Epoch 98, CIFAR-10 Batch 5:  2017-03-30 11:36:31.476756 Cost: 0.00015\tAccuracy: 0.71700\n",
      "Epoch 99, CIFAR-10 Batch 1:  2017-03-30 11:36:35.378003 Cost: 0.00001\tAccuracy: 0.71160\n",
      "Epoch 99, CIFAR-10 Batch 2:  2017-03-30 11:36:39.288949 Cost: 0.00008\tAccuracy: 0.71400\n",
      "Epoch 99, CIFAR-10 Batch 3:  2017-03-30 11:36:43.191287 Cost: 0.00001\tAccuracy: 0.71080\n",
      "Epoch 99, CIFAR-10 Batch 4:  2017-03-30 11:36:47.089140 Cost: 0.00001\tAccuracy: 0.70840\n",
      "Epoch 99, CIFAR-10 Batch 5:  2017-03-30 11:36:50.988651 Cost: 0.00004\tAccuracy: 0.71260\n",
      "Epoch 100, CIFAR-10 Batch 1:  2017-03-30 11:36:54.888302 Cost: 0.00001\tAccuracy: 0.70780\n",
      "Epoch 100, CIFAR-10 Batch 2:  2017-03-30 11:36:58.788761 Cost: 0.00004\tAccuracy: 0.71960\n",
      "Epoch 100, CIFAR-10 Batch 3:  2017-03-30 11:37:02.697976 Cost: 0.00000\tAccuracy: 0.72140\n",
      "Epoch 100, CIFAR-10 Batch 4:  2017-03-30 11:37:06.595039 Cost: 0.00002\tAccuracy: 0.71740\n",
      "Epoch 100, CIFAR-10 Batch 5:  2017-03-30 11:37:10.492483 Cost: 0.00280\tAccuracy: 0.71740\n"
     ]
    }
   ],
   "source": [
    "\"\"\"\n",
    "DON'T MODIFY ANYTHING IN THIS CELL\n",
    "\"\"\"\n",
    "save_model_path = './image_classification'\n",
    "\n",
    "print('Training...')\n",
    "with tf.Session() as sess:\n",
    "    # Initializing the variables\n",
    "    sess.run(tf.global_variables_initializer())\n",
    "    \n",
    "    # Training cycle\n",
    "    for epoch in range(epochs):\n",
    "        # Loop over all batches\n",
    "        n_batches = 5\n",
    "        for batch_i in range(1, n_batches + 1):\n",
    "            for batch_features, batch_labels in helper.load_preprocess_training_batch(batch_i, batch_size):\n",
    "                train_neural_network(sess, optimizer, keep_probability, batch_features, batch_labels)\n",
    "            print('Epoch {:>2}, CIFAR-10 Batch {}:  '.format(epoch + 1, batch_i), end='')\n",
    "            print_stats(sess, batch_features, batch_labels, cost, accuracy)\n",
    "            \n",
    "    # Save Model\n",
    "    saver = tf.train.Saver()\n",
    "    save_path = saver.save(sess, save_model_path)"
   ]
  },
  {
   "cell_type": "markdown",
   "metadata": {
    "deletable": true,
    "editable": true
   },
   "source": [
    "### Fully Train the Model\n",
    "Now that you got a good accuracy with a single CIFAR-10 batch, try it with all five batches."
   ]
  },
  {
   "cell_type": "markdown",
   "metadata": {
    "deletable": true,
    "editable": true
   },
   "source": [
    "# Checkpoint\n",
    "The model has been saved to disk.\n",
    "## Test Model\n",
    "Test your model against the test dataset.  This will be your final accuracy. You should have an accuracy greater than 50%. If you don't, keep tweaking the model architecture and parameters."
   ]
  },
  {
   "cell_type": "code",
   "execution_count": 19,
   "metadata": {
    "collapsed": false,
    "deletable": true,
    "editable": true
   },
   "outputs": [
    {
     "name": "stdout",
     "output_type": "stream",
     "text": [
      "Testing Accuracy: 0.7087890625\n",
      "\n"
     ]
    },
    {
     "data": {
      "image/png": "[encoded data removed]",
      "text/plain": [
       "<matplotlib.figure.Figure at 0x7fd7f84aef98>"
      ]
     },
     "metadata": {
      "image/png": {
       "height": 319,
       "width": 355
      }
     },
     "output_type": "display_data"
    }
   ],
   "source": [
    "\"\"\"\n",
    "DON'T MODIFY ANYTHING IN THIS CELL\n",
    "\"\"\"\n",
    "%matplotlib inline\n",
    "%config InlineBackend.figure_format = 'retina'\n",
    "\n",
    "import tensorflow as tf\n",
    "import pickle\n",
    "import helper\n",
    "import random\n",
    "\n",
    "# Set batch size if not already set\n",
    "try:\n",
    "    if batch_size:\n",
    "        pass\n",
    "except NameError:\n",
    "    batch_size = 64\n",
    "\n",
    "save_model_path = './image_classification'\n",
    "n_samples = 4\n",
    "top_n_predictions = 3\n",
    "\n",
    "def test_model():\n",
    "    \"\"\"\n",
    "    Test the saved model against the test dataset\n",
    "    \"\"\"\n",
    "\n",
    "    test_features, test_labels = pickle.load(open('preprocess_training.p', mode='rb'))\n",
    "    loaded_graph = tf.Graph()\n",
    "\n",
    "    with tf.Session(graph=loaded_graph) as sess:\n",
    "        # Load model\n",
    "        loader = tf.train.import_meta_graph(save_model_path + '.meta')\n",
    "        loader.restore(sess, save_model_path)\n",
    "\n",
    "        # Get Tensors from loaded model\n",
    "        loaded_x = loaded_graph.get_tensor_by_name('x:0')\n",
    "        loaded_y = loaded_graph.get_tensor_by_name('y:0')\n",
    "        loaded_keep_prob = loaded_graph.get_tensor_by_name('keep_prob:0')\n",
    "        loaded_logits = loaded_graph.get_tensor_by_name('logits:0')\n",
    "        loaded_acc = loaded_graph.get_tensor_by_name('accuracy:0')\n",
    "        \n",
    "        # Get accuracy in batches for memory limitations\n",
    "        test_batch_acc_total = 0\n",
    "        test_batch_count = 0\n",
    "        \n",
    "        for train_feature_batch, train_label_batch in helper.batch_features_labels(test_features, test_labels, batch_size):\n",
    "            test_batch_acc_total += sess.run(\n",
    "                loaded_acc,\n",
    "                feed_dict={loaded_x: train_feature_batch, loaded_y: train_label_batch, loaded_keep_prob: 1.0})\n",
    "            test_batch_count += 1\n",
    "\n",
    "        print('Testing Accuracy: {}\\n'.format(test_batch_acc_total/test_batch_count))\n",
    "\n",
    "        # Print Random Samples\n",
    "        random_test_features, random_test_labels = tuple(zip(*random.sample(list(zip(test_features, test_labels)), n_samples)))\n",
    "        random_test_predictions = sess.run(\n",
    "            tf.nn.top_k(tf.nn.softmax(loaded_logits), top_n_predictions),\n",
    "            feed_dict={loaded_x: random_test_features, loaded_y: random_test_labels, loaded_keep_prob: 1.0})\n",
    "        helper.display_image_predictions(random_test_features, random_test_labels, random_test_predictions)\n",
    "\n",
    "\n",
    "test_model()"
   ]
  },
  {
   "cell_type": "markdown",
   "metadata": {
    "deletable": true,
    "editable": true
   },
   "source": [
    "## Why 50-80% Accuracy?\n",
    "You might be wondering why you can't get an accuracy any higher. First things first, 50% isn't bad for a simple CNN.  Pure guessing would get you 10% accuracy. However, you might notice people are getting scores [well above 80%](http://rodrigob.github.io/are_we_there_yet/build/classification_datasets_results.html#43494641522d3130).  That's because we haven't taught you all there is to know about neural networks. We still need to cover a few more techniques.\n",
    "## Submitting This Project\n",
    "When submitting this project, make sure to run all the cells before saving the notebook.  Save the notebook file as \"dlnd_image_classification.ipynb\" and save it as a HTML file under \"File\" -> \"Download as\".  Include the \"helper.py\" and \"problem_unittests.py\" files in your submission."
   ]
  }
 ],
 "metadata": {
  "kernelspec": {
   "display_name": "Python 3",
   "language": "python",
   "name": "python3"
  },
  "language_info": {
   "codemirror_mode": {
    "name": "ipython",
    "version": 3
   },
   "file_extension": ".py",
   "mimetype": "text/x-python",
   "name": "python",
   "nbconvert_exporter": "python",
   "pygments_lexer": "ipython3",
   "version": "3.5.2"
  },
  "toc": {
   "colors": {
    "hover_highlight": "#DAA520",
    "running_highlight": "#FF0000",
    "selected_highlight": "#FFD700"
   },
   "moveMenuLeft": true,
   "nav_menu": {
    "height": "495px",
    "width": "252px"
   },
   "navigate_menu": true,
   "number_sections": true,
   "sideBar": true,
   "threshold": 4,
   "toc_cell": false,
   "toc_section_display": "block",
   "toc_window_display": false,
   "widenNotebook": false
  }
 },
 "nbformat": 4,
 "nbformat_minor": 0
}
